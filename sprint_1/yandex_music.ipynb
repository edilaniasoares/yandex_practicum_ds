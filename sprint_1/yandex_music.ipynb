{
 "cells": [
  {
   "cell_type": "markdown",
   "metadata": {
    "id": "E0vqbgi9ay0H"
   },
   "source": [
    "# Yandex.Music"
   ]
  },
  {
   "cell_type": "markdown",
   "metadata": {
    "id": "fhq_eyov_Zcs"
   },
   "source": [
    "# Contents <a id='back'></a>\n",
    "\n",
    "* [Introdução](#intro)\n",
    "* [Etapa 1. Visão geral dos dados](#data_review)\n",
    "    * [Conclusões](#data_review_conclusions)\n",
    "* [Etapa 2. Pré-processamento de dados](#data_preprocessing)\n",
    "    * [2.1 Estilo do cabeçalho](#header_style)\n",
    "    * [2.2 Valores ausentes](#missing_values)\n",
    "    * [2.3 Duplicadas](#duplicates)\n",
    "    * [2.4 Conclusões](#data_preprocessing_conclusions)\n",
    "* [Etapa 3. Testando as hipóteses](#hypotheses)\n",
    "    * [3.1 Hipótese 1: comparando o comportamento dos usuários em duas cidades](#activity)\n",
    "    * [3.2 Hipótese 2: música no começo e no fim da semana](#week)\n",
    "    * [3.3 Hipótese 3: preferências em Springfield e Shelbyville](#genre)\n",
    "* [Conclusões](#end)"
   ]
  },
  {
   "cell_type": "markdown",
   "metadata": {
    "id": "VUC88oWjTJw2"
   },
   "source": [
    "## Introdução <a id='intro'></a>\n",
    "Sempre que fazemos uma pesquisa, precisamos formular uma hipótese que depois poderemos testar. Às vezes nós aceitamos essas hipóteses; outras vezes, nós as rejeitamos. Para fazer as escolhas certas, um negócio deve ser capaz de entender se está fazendo as suposições certas ou não.\n",
    "\n",
    "Neste projeto, você vai comparar as preferências musicais dos habitantes de Springfild e Shelbyville. Você estudará dados reais do Yandex.Music para testar a hipótese abaixo e comparar o comportamento do usuário para essas duas cidades.\n",
    "\n",
    "### Objetivo: \n",
    "Teste três hipóteses:\n",
    "1. A atividade dos usuários é diferente dependendo do dia da semana e da cidade. \n",
    "2. Durante as manhãs de segunda-feira, os moradores de Springfield e Shelbyville escutam diferentes gêneros. Isso também é verdadeiro para noites de sexta-feira. \n",
    "3. Os ouvintes de Springfield e Shelbyville têm diferentes preferências. Em Springfield, as pessoas preferem pop, enquanto Shelbyville tem mais fãs de rap.\n",
    "\n",
    "### Etapas \n",
    "Os dados sobre o comportamento do usuário é armazenado no arquivo `/datasets/music_project_en.csv`. Não há informação sobre a qualidade dos dados, então, você precisará examiná-los antes de testar a hipótese. \n",
    "\n",
    "Primeiro, você avaliará a qualidade dos dados e ver se seus problemas são significativos. Depois, durante o pré-processamento de dados, você tentará dar conta dos problemas mais críticos problemas.\n",
    " \n",
    "O seu projeto consistirá em três etapas:\n",
    " 1. Visão geral dos dados\n",
    " 2. Pré-processamento de dados\n",
    " 3. Testando as hipóteses\n",
    " \n",
    "[Voltar ao Índice](#back)"
   ]
  },
  {
   "cell_type": "markdown",
   "metadata": {},
   "source": [
    "<div class=\"alert alert-block alert-success\">\n",
    "<b> Comentário do revisor: </b> <a class=\"tocSkip\"></a>\n",
    "\n",
    "Excelente. É muito importante escrever uma introdução, um index para facilitar a leitura do codigo, contextualizar o problema e suas etapas e deixar os objetivos claros! \n",
    "</div>\n"
   ]
  },
  {
   "cell_type": "markdown",
   "metadata": {
    "id": "Ml1hmfXC_Zcs"
   },
   "source": [
    "## Etapa 1. Visão geral dos dados <a id='data_review'></a>\n",
    "\n",
    "Abra os dados em Yandex.Music e explore-os."
   ]
  },
  {
   "cell_type": "markdown",
   "metadata": {
    "id": "57eAOGIz_Zcs"
   },
   "source": [
    "Você precisará de `pandas`, então, importe-a."
   ]
  },
  {
   "cell_type": "code",
   "execution_count": 1,
   "metadata": {},
   "outputs": [],
   "source": [
    "import pandas as pd"
   ]
  },
  {
   "cell_type": "code",
   "execution_count": 2,
   "metadata": {},
   "outputs": [],
   "source": [
    "df = pd.read_csv('/datasets/music_project_en.csv')"
   ]
  },
  {
   "cell_type": "markdown",
   "metadata": {
    "id": "SG23P8tt_Zcs"
   },
   "source": [
    "Leia o arquivo `music_project_en.csv` da pasta `/datasets/` e salve-o na variável `df`:"
   ]
  },
  {
   "cell_type": "code",
   "execution_count": 3,
   "metadata": {
    "id": "fFVu7vqh_Zct"
   },
   "outputs": [
    {
     "data": {
      "text/html": [
       "<div>\n",
       "<style scoped>\n",
       "    .dataframe tbody tr th:only-of-type {\n",
       "        vertical-align: middle;\n",
       "    }\n",
       "\n",
       "    .dataframe tbody tr th {\n",
       "        vertical-align: top;\n",
       "    }\n",
       "\n",
       "    .dataframe thead th {\n",
       "        text-align: right;\n",
       "    }\n",
       "</style>\n",
       "<table border=\"1\" class=\"dataframe\">\n",
       "  <thead>\n",
       "    <tr style=\"text-align: right;\">\n",
       "      <th></th>\n",
       "      <th>userID</th>\n",
       "      <th>Track</th>\n",
       "      <th>artist</th>\n",
       "      <th>genre</th>\n",
       "      <th>City</th>\n",
       "      <th>time</th>\n",
       "      <th>Day</th>\n",
       "    </tr>\n",
       "  </thead>\n",
       "  <tbody>\n",
       "    <tr>\n",
       "      <td>0</td>\n",
       "      <td>FFB692EC</td>\n",
       "      <td>Kamigata To Boots</td>\n",
       "      <td>The Mass Missile</td>\n",
       "      <td>rock</td>\n",
       "      <td>Shelbyville</td>\n",
       "      <td>20:28:33</td>\n",
       "      <td>Wednesday</td>\n",
       "    </tr>\n",
       "    <tr>\n",
       "      <td>1</td>\n",
       "      <td>55204538</td>\n",
       "      <td>Delayed Because of Accident</td>\n",
       "      <td>Andreas Rönnberg</td>\n",
       "      <td>rock</td>\n",
       "      <td>Springfield</td>\n",
       "      <td>14:07:09</td>\n",
       "      <td>Friday</td>\n",
       "    </tr>\n",
       "    <tr>\n",
       "      <td>2</td>\n",
       "      <td>20EC38</td>\n",
       "      <td>Funiculì funiculà</td>\n",
       "      <td>Mario Lanza</td>\n",
       "      <td>pop</td>\n",
       "      <td>Shelbyville</td>\n",
       "      <td>20:58:07</td>\n",
       "      <td>Wednesday</td>\n",
       "    </tr>\n",
       "    <tr>\n",
       "      <td>3</td>\n",
       "      <td>A3DD03C9</td>\n",
       "      <td>Dragons in the Sunset</td>\n",
       "      <td>Fire + Ice</td>\n",
       "      <td>folk</td>\n",
       "      <td>Shelbyville</td>\n",
       "      <td>08:37:09</td>\n",
       "      <td>Monday</td>\n",
       "    </tr>\n",
       "    <tr>\n",
       "      <td>4</td>\n",
       "      <td>E2DC1FAE</td>\n",
       "      <td>Soul People</td>\n",
       "      <td>Space Echo</td>\n",
       "      <td>dance</td>\n",
       "      <td>Springfield</td>\n",
       "      <td>08:34:34</td>\n",
       "      <td>Monday</td>\n",
       "    </tr>\n",
       "    <tr>\n",
       "      <td>...</td>\n",
       "      <td>...</td>\n",
       "      <td>...</td>\n",
       "      <td>...</td>\n",
       "      <td>...</td>\n",
       "      <td>...</td>\n",
       "      <td>...</td>\n",
       "      <td>...</td>\n",
       "    </tr>\n",
       "    <tr>\n",
       "      <td>65074</td>\n",
       "      <td>729CBB09</td>\n",
       "      <td>My Name</td>\n",
       "      <td>McLean</td>\n",
       "      <td>rnb</td>\n",
       "      <td>Springfield</td>\n",
       "      <td>13:32:28</td>\n",
       "      <td>Wednesday</td>\n",
       "    </tr>\n",
       "    <tr>\n",
       "      <td>65075</td>\n",
       "      <td>D08D4A55</td>\n",
       "      <td>Maybe One Day (feat. Black Spade)</td>\n",
       "      <td>Blu &amp; Exile</td>\n",
       "      <td>hip</td>\n",
       "      <td>Shelbyville</td>\n",
       "      <td>10:00:00</td>\n",
       "      <td>Monday</td>\n",
       "    </tr>\n",
       "    <tr>\n",
       "      <td>65076</td>\n",
       "      <td>C5E3A0D5</td>\n",
       "      <td>Jalopiina</td>\n",
       "      <td>NaN</td>\n",
       "      <td>industrial</td>\n",
       "      <td>Springfield</td>\n",
       "      <td>20:09:26</td>\n",
       "      <td>Friday</td>\n",
       "    </tr>\n",
       "    <tr>\n",
       "      <td>65077</td>\n",
       "      <td>321D0506</td>\n",
       "      <td>Freight Train</td>\n",
       "      <td>Chas McDevitt</td>\n",
       "      <td>rock</td>\n",
       "      <td>Springfield</td>\n",
       "      <td>21:43:59</td>\n",
       "      <td>Friday</td>\n",
       "    </tr>\n",
       "    <tr>\n",
       "      <td>65078</td>\n",
       "      <td>3A64EF84</td>\n",
       "      <td>Tell Me Sweet Little Lies</td>\n",
       "      <td>Monica Lopez</td>\n",
       "      <td>country</td>\n",
       "      <td>Springfield</td>\n",
       "      <td>21:59:46</td>\n",
       "      <td>Friday</td>\n",
       "    </tr>\n",
       "  </tbody>\n",
       "</table>\n",
       "<p>65079 rows × 7 columns</p>\n",
       "</div>"
      ],
      "text/plain": [
       "         userID                              Track            artist  \\\n",
       "0      FFB692EC                  Kamigata To Boots  The Mass Missile   \n",
       "1      55204538        Delayed Because of Accident  Andreas Rönnberg   \n",
       "2        20EC38                  Funiculì funiculà       Mario Lanza   \n",
       "3      A3DD03C9              Dragons in the Sunset        Fire + Ice   \n",
       "4      E2DC1FAE                        Soul People        Space Echo   \n",
       "...         ...                                ...               ...   \n",
       "65074  729CBB09                            My Name            McLean   \n",
       "65075  D08D4A55  Maybe One Day (feat. Black Spade)       Blu & Exile   \n",
       "65076  C5E3A0D5                          Jalopiina               NaN   \n",
       "65077  321D0506                      Freight Train     Chas McDevitt   \n",
       "65078  3A64EF84          Tell Me Sweet Little Lies      Monica Lopez   \n",
       "\n",
       "            genre       City        time        Day  \n",
       "0            rock  Shelbyville  20:28:33  Wednesday  \n",
       "1            rock  Springfield  14:07:09     Friday  \n",
       "2             pop  Shelbyville  20:58:07  Wednesday  \n",
       "3            folk  Shelbyville  08:37:09     Monday  \n",
       "4           dance  Springfield  08:34:34     Monday  \n",
       "...           ...          ...       ...        ...  \n",
       "65074         rnb  Springfield  13:32:28  Wednesday  \n",
       "65075         hip  Shelbyville  10:00:00     Monday  \n",
       "65076  industrial  Springfield  20:09:26     Friday  \n",
       "65077        rock  Springfield  21:43:59     Friday  \n",
       "65078     country  Springfield  21:59:46     Friday  \n",
       "\n",
       "[65079 rows x 7 columns]"
      ]
     },
     "execution_count": 3,
     "metadata": {},
     "output_type": "execute_result"
    }
   ],
   "source": [
    "# lendo o arquivo e armazenando em df\n",
    "df"
   ]
  },
  {
   "cell_type": "markdown",
   "metadata": {
    "id": "rDoOMd3uTqnZ"
   },
   "source": [
    "Exiba as primeiras 10 linhas da tabela:"
   ]
  },
  {
   "cell_type": "code",
   "execution_count": 4,
   "metadata": {
    "id": "oWTVX3gW_Zct"
   },
   "outputs": [
    {
     "data": {
      "text/html": [
       "<div>\n",
       "<style scoped>\n",
       "    .dataframe tbody tr th:only-of-type {\n",
       "        vertical-align: middle;\n",
       "    }\n",
       "\n",
       "    .dataframe tbody tr th {\n",
       "        vertical-align: top;\n",
       "    }\n",
       "\n",
       "    .dataframe thead th {\n",
       "        text-align: right;\n",
       "    }\n",
       "</style>\n",
       "<table border=\"1\" class=\"dataframe\">\n",
       "  <thead>\n",
       "    <tr style=\"text-align: right;\">\n",
       "      <th></th>\n",
       "      <th>userID</th>\n",
       "      <th>Track</th>\n",
       "      <th>artist</th>\n",
       "      <th>genre</th>\n",
       "      <th>City</th>\n",
       "      <th>time</th>\n",
       "      <th>Day</th>\n",
       "    </tr>\n",
       "  </thead>\n",
       "  <tbody>\n",
       "    <tr>\n",
       "      <td>0</td>\n",
       "      <td>FFB692EC</td>\n",
       "      <td>Kamigata To Boots</td>\n",
       "      <td>The Mass Missile</td>\n",
       "      <td>rock</td>\n",
       "      <td>Shelbyville</td>\n",
       "      <td>20:28:33</td>\n",
       "      <td>Wednesday</td>\n",
       "    </tr>\n",
       "    <tr>\n",
       "      <td>1</td>\n",
       "      <td>55204538</td>\n",
       "      <td>Delayed Because of Accident</td>\n",
       "      <td>Andreas Rönnberg</td>\n",
       "      <td>rock</td>\n",
       "      <td>Springfield</td>\n",
       "      <td>14:07:09</td>\n",
       "      <td>Friday</td>\n",
       "    </tr>\n",
       "    <tr>\n",
       "      <td>2</td>\n",
       "      <td>20EC38</td>\n",
       "      <td>Funiculì funiculà</td>\n",
       "      <td>Mario Lanza</td>\n",
       "      <td>pop</td>\n",
       "      <td>Shelbyville</td>\n",
       "      <td>20:58:07</td>\n",
       "      <td>Wednesday</td>\n",
       "    </tr>\n",
       "    <tr>\n",
       "      <td>3</td>\n",
       "      <td>A3DD03C9</td>\n",
       "      <td>Dragons in the Sunset</td>\n",
       "      <td>Fire + Ice</td>\n",
       "      <td>folk</td>\n",
       "      <td>Shelbyville</td>\n",
       "      <td>08:37:09</td>\n",
       "      <td>Monday</td>\n",
       "    </tr>\n",
       "    <tr>\n",
       "      <td>4</td>\n",
       "      <td>E2DC1FAE</td>\n",
       "      <td>Soul People</td>\n",
       "      <td>Space Echo</td>\n",
       "      <td>dance</td>\n",
       "      <td>Springfield</td>\n",
       "      <td>08:34:34</td>\n",
       "      <td>Monday</td>\n",
       "    </tr>\n",
       "    <tr>\n",
       "      <td>5</td>\n",
       "      <td>842029A1</td>\n",
       "      <td>Chains</td>\n",
       "      <td>Obladaet</td>\n",
       "      <td>rusrap</td>\n",
       "      <td>Shelbyville</td>\n",
       "      <td>13:09:41</td>\n",
       "      <td>Friday</td>\n",
       "    </tr>\n",
       "    <tr>\n",
       "      <td>6</td>\n",
       "      <td>4CB90AA5</td>\n",
       "      <td>True</td>\n",
       "      <td>Roman Messer</td>\n",
       "      <td>dance</td>\n",
       "      <td>Springfield</td>\n",
       "      <td>13:00:07</td>\n",
       "      <td>Wednesday</td>\n",
       "    </tr>\n",
       "    <tr>\n",
       "      <td>7</td>\n",
       "      <td>F03E1C1F</td>\n",
       "      <td>Feeling This Way</td>\n",
       "      <td>Polina Griffith</td>\n",
       "      <td>dance</td>\n",
       "      <td>Springfield</td>\n",
       "      <td>20:47:49</td>\n",
       "      <td>Wednesday</td>\n",
       "    </tr>\n",
       "    <tr>\n",
       "      <td>8</td>\n",
       "      <td>8FA1D3BE</td>\n",
       "      <td>L’estate</td>\n",
       "      <td>Julia Dalia</td>\n",
       "      <td>ruspop</td>\n",
       "      <td>Springfield</td>\n",
       "      <td>09:17:40</td>\n",
       "      <td>Friday</td>\n",
       "    </tr>\n",
       "    <tr>\n",
       "      <td>9</td>\n",
       "      <td>E772D5C0</td>\n",
       "      <td>Pessimist</td>\n",
       "      <td>NaN</td>\n",
       "      <td>dance</td>\n",
       "      <td>Shelbyville</td>\n",
       "      <td>21:20:49</td>\n",
       "      <td>Wednesday</td>\n",
       "    </tr>\n",
       "  </tbody>\n",
       "</table>\n",
       "</div>"
      ],
      "text/plain": [
       "     userID                        Track            artist   genre  \\\n",
       "0  FFB692EC            Kamigata To Boots  The Mass Missile    rock   \n",
       "1  55204538  Delayed Because of Accident  Andreas Rönnberg    rock   \n",
       "2    20EC38            Funiculì funiculà       Mario Lanza     pop   \n",
       "3  A3DD03C9        Dragons in the Sunset        Fire + Ice    folk   \n",
       "4  E2DC1FAE                  Soul People        Space Echo   dance   \n",
       "5  842029A1                       Chains          Obladaet  rusrap   \n",
       "6  4CB90AA5                         True      Roman Messer   dance   \n",
       "7  F03E1C1F             Feeling This Way   Polina Griffith   dance   \n",
       "8  8FA1D3BE                     L’estate       Julia Dalia  ruspop   \n",
       "9  E772D5C0                    Pessimist               NaN   dance   \n",
       "\n",
       "        City        time        Day  \n",
       "0  Shelbyville  20:28:33  Wednesday  \n",
       "1  Springfield  14:07:09     Friday  \n",
       "2  Shelbyville  20:58:07  Wednesday  \n",
       "3  Shelbyville  08:37:09     Monday  \n",
       "4  Springfield  08:34:34     Monday  \n",
       "5  Shelbyville  13:09:41     Friday  \n",
       "6  Springfield  13:00:07  Wednesday  \n",
       "7  Springfield  20:47:49  Wednesday  \n",
       "8  Springfield  09:17:40     Friday  \n",
       "9  Shelbyville  21:20:49  Wednesday  "
      ]
     },
     "execution_count": 4,
     "metadata": {},
     "output_type": "execute_result"
    }
   ],
   "source": [
    "df.head(10)"
   ]
  },
  {
   "cell_type": "markdown",
   "metadata": {
    "id": "EO73Kwic_Zct"
   },
   "source": [
    "Obtendo as informações gerais sobre a tabela com um comando:"
   ]
  },
  {
   "cell_type": "code",
   "execution_count": 5,
   "metadata": {
    "id": "DSf2kIb-_Zct"
   },
   "outputs": [
    {
     "name": "stdout",
     "output_type": "stream",
     "text": [
      "<class 'pandas.core.frame.DataFrame'>\n",
      "RangeIndex: 65079 entries, 0 to 65078\n",
      "Data columns (total 7 columns):\n",
      "  userID    65079 non-null object\n",
      "Track       63736 non-null object\n",
      "artist      57512 non-null object\n",
      "genre       63881 non-null object\n",
      "  City      65079 non-null object\n",
      "time        65079 non-null object\n",
      "Day         65079 non-null object\n",
      "dtypes: object(7)\n",
      "memory usage: 3.5+ MB\n"
     ]
    }
   ],
   "source": [
    "df.info()"
   ]
  },
  {
   "cell_type": "markdown",
   "metadata": {
    "id": "TaQ2Iwbr_Zct"
   },
   "source": [
    "A tabela contém sete colunas. Elas armazenam o mesmo tipo de dado: 'objetos'.\n",
    "\n",
    "De acordo com a documentação:\n",
    "- `'userID'` — identificação do usuário\n",
    "- `'Track'` — título da música\n",
    "- `'artist'` — nome do artista\n",
    "- `'genre'` — o gênero\n",
    "- `'City'` — cidade do usuário\n",
    "- `'time'` — tempo exato que a música foi tocada\n",
    "- `'Day'` — dia da semana\n",
    "\n",
    "Nós podemos ver três problemas com o estilo nos nomes das colunas:\n",
    "1. Alguns nomes estão com letra maiúscula, alguns com letra minúscula.\n",
    "2. Há espaços em alguns nomes.\n",
    "3. `Detecte o problema por si só e o descreva aqui`.\n",
    "\n",
    "A quantidade de valores das colunas é diferente. Isso significa que os dados contém valores ausentes.\n"
   ]
  },
  {
   "cell_type": "markdown",
   "metadata": {
    "id": "MCB6-dXG_Zct"
   },
   "source": [
    "### Conclusões <a id='data_review_conclusions'></a> \n",
    "\n",
    "Cada linha na tabela armazena dados sobre uma música que foi tocada. Algumas colunas descrevem a música por si só: seu título, artista e gênero. O restante contém informações sobre o usuário: a cidade de onde eles vêm, a quantidade de vezes que a música foi tocada. \n",
    "\n",
    "Está claro que os dados são suficientes para testar as hipóteses. Entretanto, há valores ausentes.\n",
    "\n",
    "Para seguir adiante, precisamos pré-processar os dados."
   ]
  },
  {
   "cell_type": "markdown",
   "metadata": {
    "id": "3eL__vcwViOi"
   },
   "source": [
    "[Voltar ao Índice](#back)"
   ]
  },
  {
   "cell_type": "markdown",
   "metadata": {
    "id": "SjYF6Ub9_Zct"
   },
   "source": [
    "## Etapa 2. Pré-processar dados <a id='data_preprocessing'></a>\n",
    "Corrija a formatação no cabeçalho da coluna e trabalhe com os valores ausentes. Depois, verifique se há duplicadas nos dados."
   ]
  },
  {
   "cell_type": "markdown",
   "metadata": {
    "id": "dIaKXr29_Zct"
   },
   "source": [
    "### Estilo do cabeçalho <a id='header_style'></a>\n",
    "Exiba o cabeçalho da coluna:"
   ]
  },
  {
   "cell_type": "code",
   "execution_count": 31,
   "metadata": {
    "id": "oKOTdF_Q_Zct"
   },
   "outputs": [
    {
     "data": {
      "text/plain": [
       "Index(['  userID', 'Track', 'artist', 'genre', '  City  ', 'time', 'Day'], dtype='object')"
      ]
     },
     "execution_count": 31,
     "metadata": {},
     "output_type": "execute_result"
    }
   ],
   "source": [
    "df.columns# a lista dos nomes das colunas na tabela df"
   ]
  },
  {
   "cell_type": "markdown",
   "metadata": {
    "id": "zj5534cv_Zct"
   },
   "source": [
    "Mude os nomes das colunas de acordo com as regras da boa prática de estilo:\n",
    "* Se o nome tiver várias palavras, use snake_case\n",
    "* Todos os caracteres precisam estar com letras minúsculas\n",
    "* Delete espaços"
   ]
  },
  {
   "cell_type": "code",
   "execution_count": 6,
   "metadata": {
    "id": "ISlFqs5y_Zct"
   },
   "outputs": [],
   "source": [
    "df = df.rename(\n",
    "    columns={\n",
    "        '  userID': 'user_id',\n",
    "        '  City  ': 'city',\n",
    "        'Day': 'day',\n",
    "        'Track': 'track'\n",
    "    }\n",
    ") \n"
   ]
  },
  {
   "cell_type": "markdown",
   "metadata": {
    "id": "1dqbh00J_Zct"
   },
   "source": [
    "Verifique o resultado. Exiba os nomes das colunas mais uma vez:"
   ]
  },
  {
   "cell_type": "code",
   "execution_count": 7,
   "metadata": {
    "id": "d4NOAmTW_Zct"
   },
   "outputs": [
    {
     "data": {
      "text/plain": [
       "Index(['user_id', 'track', 'artist', 'genre', 'city', 'time', 'day'], dtype='object')"
      ]
     },
     "execution_count": 7,
     "metadata": {},
     "output_type": "execute_result"
    }
   ],
   "source": [
    "df.columns"
   ]
  },
  {
   "cell_type": "markdown",
   "metadata": {
    "id": "xYJk6ksJVpOl"
   },
   "source": [
    "[Voltar ao Índice](#back)"
   ]
  },
  {
   "cell_type": "markdown",
   "metadata": {
    "id": "5ISfbcfY_Zct"
   },
   "source": [
    "### Valores ausentes <a id='missing_values'></a>\n",
    "Primeiro, encontre a quantidade de valores ausentes na tabela. Para fazer isso, use dois métodos pandas:"
   ]
  },
  {
   "cell_type": "code",
   "execution_count": 8,
   "metadata": {
    "id": "RskX29qr_Zct"
   },
   "outputs": [
    {
     "data": {
      "text/plain": [
       "user_id       0\n",
       "track      1343\n",
       "artist     7567\n",
       "genre      1198\n",
       "city          0\n",
       "time          0\n",
       "day           0\n",
       "dtype: int64"
      ]
     },
     "execution_count": 8,
     "metadata": {},
     "output_type": "execute_result"
    }
   ],
   "source": [
    "df.isna().sum()"
   ]
  },
  {
   "cell_type": "markdown",
   "metadata": {
    "id": "qubhgnlO_Zct"
   },
   "source": [
    "Nem todos os valores ausentes afetam a pesquisa. Por exemplo, os valores ausentes na música e artista não é decisivo. Você pode simplesmente substituí-los por marcadores claros.\n",
    "\n",
    "Mas valores ausentes em 'genre' pode afetar a comparação de preferências musicais de Springfield e Shelbyville. Na vida real, seria útil descobrir as razões pelas quais os dados estão ausentes e tentar compensá-los. Mas nós não temos essa possibilidade neste projeto. Então, você terá que:\n",
    "* Preencher os valores ausentes com marcadores\n",
    "* Avaliar o quanto os valores ausentes podem afetar os seus cálculos"
   ]
  },
  {
   "cell_type": "markdown",
   "metadata": {
    "id": "fSv2laPA_Zct"
   },
   "source": [
    "Substituir os valores ausentes em `'track'`, `'artist'`, e `'genre'` com a string `'unknown'`. Para fazer isso, crie a lista `columns_to_replace`, percorra-a com o laço for, e substitua os valores ausentes em cada uma das colunas:"
   ]
  },
  {
   "cell_type": "code",
   "execution_count": 95,
   "metadata": {
    "id": "KplB5qWs_Zct"
   },
   "outputs": [],
   "source": [
    "columns_to_replace = ['track', 'artist', 'genre']\n",
    "\n",
    "for colunas in columns_to_replace:\n",
    "    df[colunas] =  df[colunas].fillna('unknown')\n",
    "     "
   ]
  },
  {
   "cell_type": "markdown",
   "metadata": {
    "id": "Ilsm-MZo_Zct"
   },
   "source": [
    "Certifique-se de que a tabela não contenha mais valores ausentes. Conte os valores ausentes novamente."
   ]
  },
  {
   "cell_type": "code",
   "execution_count": 10,
   "metadata": {
    "id": "Tq4nYRX4_Zct"
   },
   "outputs": [
    {
     "data": {
      "text/plain": [
       "user_id    0\n",
       "track      0\n",
       "artist     0\n",
       "genre      0\n",
       "city       0\n",
       "time       0\n",
       "day        0\n",
       "dtype: int64"
      ]
     },
     "execution_count": 10,
     "metadata": {},
     "output_type": "execute_result"
    }
   ],
   "source": [
    "df.isna().sum()# contando os valores ausentes"
   ]
  },
  {
   "cell_type": "markdown",
   "metadata": {
    "id": "74ZIBmq9VrsK"
   },
   "source": [
    "[Voltar ao Índice](#back)"
   ]
  },
  {
   "cell_type": "markdown",
   "metadata": {
    "id": "BWKRtBJ3_Zct"
   },
   "source": [
    "### Duplicadas <a id='duplicates'></a>\n",
    "Encontre o número de duplicadas óbvias na tabela usando um comando:"
   ]
  },
  {
   "cell_type": "code",
   "execution_count": 11,
   "metadata": {
    "id": "36eES_S0_Zct"
   },
   "outputs": [
    {
     "data": {
      "text/plain": [
       "3826"
      ]
     },
     "execution_count": 11,
     "metadata": {},
     "output_type": "execute_result"
    }
   ],
   "source": [
    "\n",
    "df.duplicated().sum() # contando duplicadas claras"
   ]
  },
  {
   "cell_type": "markdown",
   "metadata": {
    "id": "Ot25h6XR_Zct"
   },
   "source": [
    "Chame o método pandas para se livrar das duplicadas óbvias:"
   ]
  },
  {
   "cell_type": "code",
   "execution_count": 12,
   "metadata": {},
   "outputs": [
    {
     "data": {
      "text/html": [
       "<div>\n",
       "<style scoped>\n",
       "    .dataframe tbody tr th:only-of-type {\n",
       "        vertical-align: middle;\n",
       "    }\n",
       "\n",
       "    .dataframe tbody tr th {\n",
       "        vertical-align: top;\n",
       "    }\n",
       "\n",
       "    .dataframe thead th {\n",
       "        text-align: right;\n",
       "    }\n",
       "</style>\n",
       "<table border=\"1\" class=\"dataframe\">\n",
       "  <thead>\n",
       "    <tr style=\"text-align: right;\">\n",
       "      <th></th>\n",
       "      <th>user_id</th>\n",
       "      <th>track</th>\n",
       "      <th>artist</th>\n",
       "      <th>genre</th>\n",
       "      <th>city</th>\n",
       "      <th>time</th>\n",
       "      <th>day</th>\n",
       "    </tr>\n",
       "  </thead>\n",
       "  <tbody>\n",
       "    <tr>\n",
       "      <td>0</td>\n",
       "      <td>FFB692EC</td>\n",
       "      <td>Kamigata To Boots</td>\n",
       "      <td>The Mass Missile</td>\n",
       "      <td>rock</td>\n",
       "      <td>Shelbyville</td>\n",
       "      <td>20:28:33</td>\n",
       "      <td>Wednesday</td>\n",
       "    </tr>\n",
       "    <tr>\n",
       "      <td>1</td>\n",
       "      <td>55204538</td>\n",
       "      <td>Delayed Because of Accident</td>\n",
       "      <td>Andreas Rönnberg</td>\n",
       "      <td>rock</td>\n",
       "      <td>Springfield</td>\n",
       "      <td>14:07:09</td>\n",
       "      <td>Friday</td>\n",
       "    </tr>\n",
       "    <tr>\n",
       "      <td>2</td>\n",
       "      <td>20EC38</td>\n",
       "      <td>Funiculì funiculà</td>\n",
       "      <td>Mario Lanza</td>\n",
       "      <td>pop</td>\n",
       "      <td>Shelbyville</td>\n",
       "      <td>20:58:07</td>\n",
       "      <td>Wednesday</td>\n",
       "    </tr>\n",
       "    <tr>\n",
       "      <td>3</td>\n",
       "      <td>A3DD03C9</td>\n",
       "      <td>Dragons in the Sunset</td>\n",
       "      <td>Fire + Ice</td>\n",
       "      <td>folk</td>\n",
       "      <td>Shelbyville</td>\n",
       "      <td>08:37:09</td>\n",
       "      <td>Monday</td>\n",
       "    </tr>\n",
       "    <tr>\n",
       "      <td>4</td>\n",
       "      <td>E2DC1FAE</td>\n",
       "      <td>Soul People</td>\n",
       "      <td>Space Echo</td>\n",
       "      <td>dance</td>\n",
       "      <td>Springfield</td>\n",
       "      <td>08:34:34</td>\n",
       "      <td>Monday</td>\n",
       "    </tr>\n",
       "    <tr>\n",
       "      <td>...</td>\n",
       "      <td>...</td>\n",
       "      <td>...</td>\n",
       "      <td>...</td>\n",
       "      <td>...</td>\n",
       "      <td>...</td>\n",
       "      <td>...</td>\n",
       "      <td>...</td>\n",
       "    </tr>\n",
       "    <tr>\n",
       "      <td>61248</td>\n",
       "      <td>729CBB09</td>\n",
       "      <td>My Name</td>\n",
       "      <td>McLean</td>\n",
       "      <td>rnb</td>\n",
       "      <td>Springfield</td>\n",
       "      <td>13:32:28</td>\n",
       "      <td>Wednesday</td>\n",
       "    </tr>\n",
       "    <tr>\n",
       "      <td>61249</td>\n",
       "      <td>D08D4A55</td>\n",
       "      <td>Maybe One Day (feat. Black Spade)</td>\n",
       "      <td>Blu &amp; Exile</td>\n",
       "      <td>hip</td>\n",
       "      <td>Shelbyville</td>\n",
       "      <td>10:00:00</td>\n",
       "      <td>Monday</td>\n",
       "    </tr>\n",
       "    <tr>\n",
       "      <td>61250</td>\n",
       "      <td>C5E3A0D5</td>\n",
       "      <td>Jalopiina</td>\n",
       "      <td>unknown</td>\n",
       "      <td>industrial</td>\n",
       "      <td>Springfield</td>\n",
       "      <td>20:09:26</td>\n",
       "      <td>Friday</td>\n",
       "    </tr>\n",
       "    <tr>\n",
       "      <td>61251</td>\n",
       "      <td>321D0506</td>\n",
       "      <td>Freight Train</td>\n",
       "      <td>Chas McDevitt</td>\n",
       "      <td>rock</td>\n",
       "      <td>Springfield</td>\n",
       "      <td>21:43:59</td>\n",
       "      <td>Friday</td>\n",
       "    </tr>\n",
       "    <tr>\n",
       "      <td>61252</td>\n",
       "      <td>3A64EF84</td>\n",
       "      <td>Tell Me Sweet Little Lies</td>\n",
       "      <td>Monica Lopez</td>\n",
       "      <td>country</td>\n",
       "      <td>Springfield</td>\n",
       "      <td>21:59:46</td>\n",
       "      <td>Friday</td>\n",
       "    </tr>\n",
       "  </tbody>\n",
       "</table>\n",
       "<p>61253 rows × 7 columns</p>\n",
       "</div>"
      ],
      "text/plain": [
       "        user_id                              track            artist  \\\n",
       "0      FFB692EC                  Kamigata To Boots  The Mass Missile   \n",
       "1      55204538        Delayed Because of Accident  Andreas Rönnberg   \n",
       "2        20EC38                  Funiculì funiculà       Mario Lanza   \n",
       "3      A3DD03C9              Dragons in the Sunset        Fire + Ice   \n",
       "4      E2DC1FAE                        Soul People        Space Echo   \n",
       "...         ...                                ...               ...   \n",
       "61248  729CBB09                            My Name            McLean   \n",
       "61249  D08D4A55  Maybe One Day (feat. Black Spade)       Blu & Exile   \n",
       "61250  C5E3A0D5                          Jalopiina           unknown   \n",
       "61251  321D0506                      Freight Train     Chas McDevitt   \n",
       "61252  3A64EF84          Tell Me Sweet Little Lies      Monica Lopez   \n",
       "\n",
       "            genre         city      time        day  \n",
       "0            rock  Shelbyville  20:28:33  Wednesday  \n",
       "1            rock  Springfield  14:07:09     Friday  \n",
       "2             pop  Shelbyville  20:58:07  Wednesday  \n",
       "3            folk  Shelbyville  08:37:09     Monday  \n",
       "4           dance  Springfield  08:34:34     Monday  \n",
       "...           ...          ...       ...        ...  \n",
       "61248         rnb  Springfield  13:32:28  Wednesday  \n",
       "61249         hip  Shelbyville  10:00:00     Monday  \n",
       "61250  industrial  Springfield  20:09:26     Friday  \n",
       "61251        rock  Springfield  21:43:59     Friday  \n",
       "61252     country  Springfield  21:59:46     Friday  \n",
       "\n",
       "[61253 rows x 7 columns]"
      ]
     },
     "execution_count": 12,
     "metadata": {},
     "output_type": "execute_result"
    }
   ],
   "source": [
    "df.drop_duplicates().reset_index(drop=True) "
   ]
  },
  {
   "cell_type": "code",
   "execution_count": 13,
   "metadata": {
    "id": "exFHq6tt_Zct"
   },
   "outputs": [
    {
     "data": {
      "text/html": [
       "<div>\n",
       "<style scoped>\n",
       "    .dataframe tbody tr th:only-of-type {\n",
       "        vertical-align: middle;\n",
       "    }\n",
       "\n",
       "    .dataframe tbody tr th {\n",
       "        vertical-align: top;\n",
       "    }\n",
       "\n",
       "    .dataframe thead th {\n",
       "        text-align: right;\n",
       "    }\n",
       "</style>\n",
       "<table border=\"1\" class=\"dataframe\">\n",
       "  <thead>\n",
       "    <tr style=\"text-align: right;\">\n",
       "      <th></th>\n",
       "      <th>user_id</th>\n",
       "      <th>track</th>\n",
       "      <th>artist</th>\n",
       "      <th>genre</th>\n",
       "      <th>city</th>\n",
       "      <th>time</th>\n",
       "      <th>day</th>\n",
       "    </tr>\n",
       "  </thead>\n",
       "  <tbody>\n",
       "    <tr>\n",
       "      <td>65074</td>\n",
       "      <td>729CBB09</td>\n",
       "      <td>My Name</td>\n",
       "      <td>McLean</td>\n",
       "      <td>rnb</td>\n",
       "      <td>Springfield</td>\n",
       "      <td>13:32:28</td>\n",
       "      <td>Wednesday</td>\n",
       "    </tr>\n",
       "    <tr>\n",
       "      <td>65075</td>\n",
       "      <td>D08D4A55</td>\n",
       "      <td>Maybe One Day (feat. Black Spade)</td>\n",
       "      <td>Blu &amp; Exile</td>\n",
       "      <td>hip</td>\n",
       "      <td>Shelbyville</td>\n",
       "      <td>10:00:00</td>\n",
       "      <td>Monday</td>\n",
       "    </tr>\n",
       "    <tr>\n",
       "      <td>65076</td>\n",
       "      <td>C5E3A0D5</td>\n",
       "      <td>Jalopiina</td>\n",
       "      <td>unknown</td>\n",
       "      <td>industrial</td>\n",
       "      <td>Springfield</td>\n",
       "      <td>20:09:26</td>\n",
       "      <td>Friday</td>\n",
       "    </tr>\n",
       "    <tr>\n",
       "      <td>65077</td>\n",
       "      <td>321D0506</td>\n",
       "      <td>Freight Train</td>\n",
       "      <td>Chas McDevitt</td>\n",
       "      <td>rock</td>\n",
       "      <td>Springfield</td>\n",
       "      <td>21:43:59</td>\n",
       "      <td>Friday</td>\n",
       "    </tr>\n",
       "    <tr>\n",
       "      <td>65078</td>\n",
       "      <td>3A64EF84</td>\n",
       "      <td>Tell Me Sweet Little Lies</td>\n",
       "      <td>Monica Lopez</td>\n",
       "      <td>country</td>\n",
       "      <td>Springfield</td>\n",
       "      <td>21:59:46</td>\n",
       "      <td>Friday</td>\n",
       "    </tr>\n",
       "  </tbody>\n",
       "</table>\n",
       "</div>"
      ],
      "text/plain": [
       "        user_id                              track         artist       genre  \\\n",
       "65074  729CBB09                            My Name         McLean         rnb   \n",
       "65075  D08D4A55  Maybe One Day (feat. Black Spade)    Blu & Exile         hip   \n",
       "65076  C5E3A0D5                          Jalopiina        unknown  industrial   \n",
       "65077  321D0506                      Freight Train  Chas McDevitt        rock   \n",
       "65078  3A64EF84          Tell Me Sweet Little Lies   Monica Lopez     country   \n",
       "\n",
       "              city      time        day  \n",
       "65074  Springfield  13:32:28  Wednesday  \n",
       "65075  Shelbyville  10:00:00     Monday  \n",
       "65076  Springfield  20:09:26     Friday  \n",
       "65077  Springfield  21:43:59     Friday  \n",
       "65078  Springfield  21:59:46     Friday  "
      ]
     },
     "execution_count": 13,
     "metadata": {},
     "output_type": "execute_result"
    }
   ],
   "source": [
    "df.tail()# removendo duplicadas óbvias"
   ]
  },
  {
   "cell_type": "markdown",
   "metadata": {
    "id": "Im2YwBEG_Zct"
   },
   "source": [
    "Conte as duplicadas óbvias mais uma vez certifique-se que você removeu todas elas:"
   ]
  },
  {
   "cell_type": "code",
   "execution_count": 14,
   "metadata": {
    "id": "-8PuNWQ0_Zct"
   },
   "outputs": [
    {
     "data": {
      "text/plain": [
       "3826"
      ]
     },
     "execution_count": 14,
     "metadata": {},
     "output_type": "execute_result"
    }
   ],
   "source": [
    "df.duplicated().sum()# verificando duplicadas"
   ]
  },
  {
   "cell_type": "markdown",
   "metadata": {
    "id": "QlFBsxAr_Zct"
   },
   "source": [
    "Agora, livre-se das duplicadas implícitas na coluna genre. Por exemplo, o nome de um gênero pode ser escrito de maneiras diferentes. Alguns erros afetarão também o resultado."
   ]
  },
  {
   "cell_type": "markdown",
   "metadata": {
    "id": "eSjWwsOh_Zct"
   },
   "source": [
    "Exiba a lista de nomes de gêneros únicos, organizados em ordem alfabética. Para fazer isso:\n",
    "* Recupere o DataFrame da coluna pretendida \n",
    "* Aplique um método de escolha para isso\n",
    "* Para a coluna selecionada, chame o método que irá retornar todos os valores únicos das colunas"
   ]
  },
  {
   "cell_type": "code",
   "execution_count": 15,
   "metadata": {
    "id": "JIUcqzZN_Zct"
   },
   "outputs": [
    {
     "data": {
      "text/plain": [
       "array(['acid', 'acoustic', 'action', 'adult', 'africa', 'afrikaans',\n",
       "       'alternative', 'ambient', 'americana', 'animated', 'anime',\n",
       "       'arabesk', 'arabic', 'arena', 'argentinetango', 'art', 'audiobook',\n",
       "       'avantgarde', 'axé', 'baile', 'balkan', 'beats', 'bigroom',\n",
       "       'black', 'bluegrass', 'blues', 'bollywood', 'bossa', 'brazilian',\n",
       "       'breakbeat', 'breaks', 'broadway', 'cantautori', 'cantopop',\n",
       "       'canzone', 'caribbean', 'caucasian', 'celtic', 'chamber',\n",
       "       'children', 'chill', 'chinese', 'choral', 'christian', 'christmas',\n",
       "       'classical', 'classicmetal', 'club', 'colombian', 'comedy',\n",
       "       'conjazz', 'contemporary', 'country', 'cuban', 'dance',\n",
       "       'dancehall', 'dancepop', 'dark', 'death', 'deep', 'deutschrock',\n",
       "       'deutschspr', 'dirty', 'disco', 'dnb', 'documentary', 'downbeat',\n",
       "       'downtempo', 'drum', 'dub', 'dubstep', 'eastern', 'easy',\n",
       "       'electronic', 'electropop', 'emo', 'entehno', 'epicmetal',\n",
       "       'estrada', 'ethnic', 'eurofolk', 'european', 'experimental',\n",
       "       'extrememetal', 'fado', 'film', 'fitness', 'flamenco', 'folk',\n",
       "       'folklore', 'folkmetal', 'folkrock', 'folktronica', 'forró',\n",
       "       'frankreich', 'französisch', 'french', 'funk', 'future', 'gangsta',\n",
       "       'garage', 'german', 'ghazal', 'gitarre', 'glitch', 'gospel',\n",
       "       'gothic', 'grime', 'grunge', 'gypsy', 'handsup', \"hard'n'heavy\",\n",
       "       'hardcore', 'hardstyle', 'hardtechno', 'hip', 'hip-hop', 'hiphop',\n",
       "       'historisch', 'holiday', 'hop', 'horror', 'house', 'idm',\n",
       "       'independent', 'indian', 'indie', 'indipop', 'industrial',\n",
       "       'inspirational', 'instrumental', 'international', 'irish', 'jam',\n",
       "       'japanese', 'jazz', 'jewish', 'jpop', 'jungle', 'k-pop',\n",
       "       'karadeniz', 'karaoke', 'kayokyoku', 'korean', 'laiko', 'latin',\n",
       "       'latino', 'leftfield', 'local', 'lounge', 'loungeelectronic',\n",
       "       'lovers', 'malaysian', 'mandopop', 'marschmusik', 'meditative',\n",
       "       'mediterranean', 'melodic', 'metal', 'metalcore', 'mexican',\n",
       "       'middle', 'minimal', 'miscellaneous', 'modern', 'mood', 'mpb',\n",
       "       'muslim', 'native', 'neoklassik', 'neue', 'new', 'newage',\n",
       "       'newwave', 'nu', 'nujazz', 'numetal', 'oceania', 'old', 'opera',\n",
       "       'orchestral', 'other', 'piano', 'pop', 'popelectronic',\n",
       "       'popeurodance', 'post', 'posthardcore', 'postrock', 'power',\n",
       "       'progmetal', 'progressive', 'psychedelic', 'punjabi', 'punk',\n",
       "       'quebecois', 'ragga', 'ram', 'rancheras', 'rap', 'rave', 'reggae',\n",
       "       'reggaeton', 'regional', 'relax', 'religious', 'retro', 'rhythm',\n",
       "       'rnb', 'rnr', 'rock', 'rockabilly', 'romance', 'roots', 'ruspop',\n",
       "       'rusrap', 'rusrock', 'salsa', 'samba', 'schlager', 'self',\n",
       "       'sertanejo', 'shoegazing', 'showtunes', 'singer', 'ska', 'slow',\n",
       "       'smooth', 'soul', 'soulful', 'sound', 'soundtrack', 'southern',\n",
       "       'specialty', 'speech', 'spiritual', 'sport', 'stonerrock', 'surf',\n",
       "       'swing', 'synthpop', 'sängerportrait', 'tango', 'tanzorchester',\n",
       "       'taraftar', 'tech', 'techno', 'thrash', 'top', 'traditional',\n",
       "       'tradjazz', 'trance', 'tribal', 'trip', 'triphop', 'tropical',\n",
       "       'türk', 'türkçe', 'unknown', 'urban', 'uzbek', 'variété', 'vi',\n",
       "       'videogame', 'vocal', 'western', 'world', 'worldbeat', 'ïîï'],\n",
       "      dtype=object)"
      ]
     },
     "execution_count": 15,
     "metadata": {},
     "output_type": "execute_result"
    }
   ],
   "source": [
    "df['genre'].sort_values().unique()# visualizando nomes de gêneros únicos"
   ]
  },
  {
   "cell_type": "markdown",
   "metadata": {
    "id": "qej-Qmuo_Zct"
   },
   "source": [
    "Olhe a lista e encontre duplicadas implícitas do gênero `hiphop`. Esses podem ser nomes escritos incorretamente, ou nomes alternativos para o mesmo gênero.\n",
    "\n",
    "Você verá as seguintes duplicadas implícitas:\n",
    "* `hip`\n",
    "* `hop`\n",
    "* `hip-hop`\n",
    "\n",
    "Para se livrar deles, declare a função `replace_wrong_genres()` com dois parâmetros: \n",
    "* `wrong_genres=` — a lista de duplicadas\n",
    "* `correct_genre=` — a string com o valor correto\n",
    "\n",
    "A função deve corrigir os nomes na coluna `'genre'` da tabela `df` isto é, substituindo cada valor da lista `wrong_genres` por valores de `correct_genre`."
   ]
  },
  {
   "cell_type": "code",
   "execution_count": 16,
   "metadata": {
    "id": "ErNDkmns_Zct"
   },
   "outputs": [
    {
     "name": "stdout",
     "output_type": "stream",
     "text": [
      "        user_id                              track            artist  \\\n",
      "0      FFB692EC                  Kamigata To Boots  The Mass Missile   \n",
      "1      55204538        Delayed Because of Accident  Andreas Rönnberg   \n",
      "2        20EC38                  Funiculì funiculà       Mario Lanza   \n",
      "3      A3DD03C9              Dragons in the Sunset        Fire + Ice   \n",
      "4      E2DC1FAE                        Soul People        Space Echo   \n",
      "...         ...                                ...               ...   \n",
      "65074  729CBB09                            My Name            McLean   \n",
      "65075  D08D4A55  Maybe One Day (feat. Black Spade)       Blu & Exile   \n",
      "65076  C5E3A0D5                          Jalopiina           unknown   \n",
      "65077  321D0506                      Freight Train     Chas McDevitt   \n",
      "65078  3A64EF84          Tell Me Sweet Little Lies      Monica Lopez   \n",
      "\n",
      "            genre         city      time        day  \n",
      "0            rock  Shelbyville  20:28:33  Wednesday  \n",
      "1            rock  Springfield  14:07:09     Friday  \n",
      "2             pop  Shelbyville  20:58:07  Wednesday  \n",
      "3            folk  Shelbyville  08:37:09     Monday  \n",
      "4           dance  Springfield  08:34:34     Monday  \n",
      "...           ...          ...       ...        ...  \n",
      "65074         rnb  Springfield  13:32:28  Wednesday  \n",
      "65075      hiphop  Shelbyville  10:00:00     Monday  \n",
      "65076  industrial  Springfield  20:09:26     Friday  \n",
      "65077        rock  Springfield  21:43:59     Friday  \n",
      "65078     country  Springfield  21:59:46     Friday  \n",
      "\n",
      "[65079 rows x 7 columns]\n"
     ]
    }
   ],
   "source": [
    "def replace_wrong_genres(wrong_genres, correct_genre): \n",
    "    for wrong_genres in wrong_genres:\n",
    "        df['genre'] = df['genre'].replace(wrong_genres, correct_genre)\n",
    "\n",
    "duplicates = ['hip', 'hop', 'hip-hop']\n",
    "name = 'hiphop'\n",
    "replace_wrong_genres(duplicates, name)\n",
    "print(df)"
   ]
  },
  {
   "cell_type": "markdown",
   "metadata": {
    "id": "aDoBJxbA_Zct"
   },
   "source": [
    "Chame `replace_wrong_genres()` e passe a ela argumentos para que possa eliminar as duplicadas implícitas (`hip`, `hop`, e `hip-hop`) e substituí-los por `hiphop`:"
   ]
  },
  {
   "cell_type": "markdown",
   "metadata": {
    "id": "zQKF16_RG15m"
   },
   "source": [
    "Certifique-se que os nomes duplicados foram removidos. Exiba a lista de valores únicos da coluna:"
   ]
  },
  {
   "cell_type": "markdown",
   "metadata": {
    "id": "ALgNbvF3VtPA"
   },
   "source": [
    "[Voltar ao Índice](#back)"
   ]
  },
  {
   "cell_type": "markdown",
   "metadata": {
    "id": "jz6a9-7HQUDd"
   },
   "source": [
    "### Conclusões <a id='data_preprocessing_conclusions'></a>\n",
    "Nós detectamos três problemas com os dados:\n",
    "\n",
    "- Estilo de cabeçalho incorreto\n",
    "- Valores ausentes\n",
    "- Duplicadas óbvias e implícitas\n",
    "\n",
    "O cabeçalho foi limpo para fazer o processamento da tabela mais simples.\n",
    "\n",
    "Todos os valores ausentes foram substituídos por `'unknown'`. Mas nós ainda temos que ver os se valores ausentes em `'genre'` afetará os nossos cálculos.\n",
    "\n",
    "A ausência de duplicadas deixará os resultados mais precisos e mais fáceis de entender.\n",
    "\n",
    "Agora você pode seguir para testar hipóteses."
   ]
  },
  {
   "cell_type": "markdown",
   "metadata": {
    "id": "eK1es74rVujj"
   },
   "source": [
    "[Voltar ao Índice](#back)"
   ]
  },
  {
   "cell_type": "markdown",
   "metadata": {
    "id": "WttZHXH0SqKk"
   },
   "source": [
    "## Etapa 3. Testando hipóteses <a id='hypotheses'></a>"
   ]
  },
  {
   "cell_type": "markdown",
   "metadata": {
    "id": "Im936VVi_Zcu"
   },
   "source": [
    "### Hipótese 1: comparando o comportamento dos usuários em duas cidades <a id='activity'></a>"
   ]
  },
  {
   "cell_type": "markdown",
   "metadata": {
    "id": "nwt_MuaL_Zcu"
   },
   "source": [
    "De acordo com a primeira hipótese, usuários de Springfield and Shelbyville escutam música de forma diferente. Teste essa hipótese usando os dados de três dias da semana: segunda-feira, quarta-feira, e sexta-feira.\n",
    "\n",
    "* Divida os usuários de cada cidade em grupos.\n",
    "* Compare quantas músicas cada grupo escutou na segunda-feira, quarta-feira e sexta-feira.\n"
   ]
  },
  {
   "cell_type": "markdown",
   "metadata": {
    "id": "8Dw_YMmT_Zcu"
   },
   "source": [
    "Por uma questão de prática, faça cada um desses cálculos separadamente. \n",
    "\n",
    "Avalie a atividade do usuário em cada cidade. Agrupe os dados por cidade e encontre o número de músicas tocadas em cada grupo.\n",
    "\n"
   ]
  },
  {
   "cell_type": "code",
   "execution_count": 17,
   "metadata": {
    "id": "0_Qs96oh_Zcu"
   },
   "outputs": [
    {
     "data": {
      "text/plain": [
       "city\n",
       "Shelbyville    19719\n",
       "Springfield    45360\n",
       "Name: track, dtype: int64"
      ]
     },
     "execution_count": 17,
     "metadata": {},
     "output_type": "execute_result"
    }
   ],
   "source": [
    "df.groupby('city')['track'].count()  # Contando as músicas tocadas em cada cidade"
   ]
  },
  {
   "cell_type": "markdown",
   "metadata": {
    "id": "dzli3w8o_Zcu"
   },
   "source": [
    "Springfield tem mais músicas tocadas do que Shelbyville. Mas isso não quer dizer que os cidadãos de Springfield escutam música com mais frequência. Essa cidade é somente maior, e tem mais usuários.\n",
    "\n",
    "Agora agrupe os dados por dia da semana e encontre a quantidade de músicas tocadas na segunda, quarta e sexta-feira.\n"
   ]
  },
  {
   "cell_type": "code",
   "execution_count": 86,
   "metadata": {
    "id": "uZMKjiJz_Zcu"
   },
   "outputs": [
    {
     "data": {
      "text/plain": [
       "day\n",
       "Friday       23149\n",
       "Monday       22697\n",
       "Wednesday    19233\n",
       "Name: track, dtype: int64"
      ]
     },
     "execution_count": 86,
     "metadata": {},
     "output_type": "execute_result"
    }
   ],
   "source": [
    "df.groupby('day')['track'].count()\n",
    " # Calculando as músicas escutadas em cada um desses três dias"
   ]
  },
  {
   "cell_type": "markdown",
   "metadata": {
    "id": "cC2tNrlL_Zcu"
   },
   "source": [
    "Quarta-feira é o dia mais calmo em geral. Mas se considerarmos as duas cidades separadamente, devemos chegar a uma conclusão diferente."
   ]
  },
  {
   "cell_type": "markdown",
   "metadata": {
    "id": "POzs8bGa_Zcu"
   },
   "source": [
    "Você viu como agrupar por cidade ou dia da semana funciona. Agora escreva a função que agrupar os dados pelos dois critérios.\n",
    "\n",
    "Crie a função `number_tracks()` para calcular o número de músicas tocadas em um determinado dia da semana e em cada cidade. Será necessários dois parâmetros:\n",
    "* dia da semana\n",
    "* nome da cidade\n",
    "\n",
    "Na função, use a variável para armazenar as linhas da tabela original, onde:\n",
    "  * `'day'` o valor da coluna `day` é igual ao parâmetro dia\n",
    "  * `'city'` o valor da coluna `city` é igual ao parâmetro cidade\n",
    "\n",
    "Aplique filtros consecutivos com indexação lógica.\n",
    "\n",
    "Depois, calcule os valores da coluna `'user_id'` na tabela resultante. Armazene o resultado na nova variável. Retorne essa variável da função."
   ]
  },
  {
   "cell_type": "code",
   "execution_count": 85,
   "metadata": {
    "id": "Nz3GdQB1_Zcu"
   },
   "outputs": [],
   "source": [
    "def number_tracks (day, city):# criando a função number_tracks com a variável 'day'e 'city' entre parenteses com dois pontos no final>   \n",
    "    track_list = df[df['day'] == day] # Criar a variável track_list para armazenar as linha df onde o valor na coluna 'day' é igual ao parâmetro day e ao mesmo tempo, \n",
    "    track_list = track_list[track_list['city'] == city] # o valor na coluna 'city' é igual ao parâmetro city\n",
    "    track_list_count = track_list.count()['user_id'] # Deixe a variável track_list_count armazenar o número de valores da coluna 'user_id' em track_list\n",
    "    return(track_list_count) # Deixe a função retornar um número: o valor de track_list_count.\n",
    "#Não tenho certeza desse resultado, pois o valores das atividades seguintes estão apresentando 0\n",
    "\n",
    "\n",
    "\n",
    "# A função conta músicas tocadas por uma certa cidade e dia.\n",
    "# primeiro retorne as linhas com o dia pretendido da tabela,\n",
    "# depois filtre as linhas com a cidade pretendida a parir do resultado,\n",
    "# depois encontre o número de valores de 'user_id' na tabela filtrada,\n",
    "# então retorne aquele número.\n",
    "# Para o que ele retorna, envolva a função call em print()."
   ]
  },
  {
   "cell_type": "markdown",
   "metadata": {
    "id": "ytf7xFrFJQ2r"
   },
   "source": [
    "Chame a `number_tracks()` seis vezes, mudando os valores dos parâmetros, para que você recupere os dados de ambas as cidades para os três dias."
   ]
  },
  {
   "cell_type": "code",
   "execution_count": 79,
   "metadata": {
    "id": "rJcRATNQ_Zcu"
   },
   "outputs": [
    {
     "data": {
      "text/plain": [
       "16715"
      ]
     },
     "execution_count": 79,
     "metadata": {},
     "output_type": "execute_result"
    }
   ],
   "source": [
    "number_tracks('Monday', 'Springfield') # a quantidade de músicas tocadas em Springfield na segunda-feira"
   ]
  },
  {
   "cell_type": "code",
   "execution_count": 80,
   "metadata": {
    "id": "hq_ncZ5T_Zcu"
   },
   "outputs": [
    {
     "data": {
      "text/plain": [
       "5982"
      ]
     },
     "execution_count": 80,
     "metadata": {},
     "output_type": "execute_result"
    }
   ],
   "source": [
    "number_tracks('Monday', 'Shelbyville') # a quantidade de músicas tocadas em Shelbyville na segunda-feira"
   ]
  },
  {
   "cell_type": "code",
   "execution_count": 81,
   "metadata": {
    "id": "_NTy2VPU_Zcu"
   },
   "outputs": [
    {
     "data": {
      "text/plain": [
       "11755"
      ]
     },
     "execution_count": 81,
     "metadata": {},
     "output_type": "execute_result"
    }
   ],
   "source": [
    "number_tracks('Wednesday', 'Springfield')# a quantidade de músicas tocadas em Springfield na quarta-feira"
   ]
  },
  {
   "cell_type": "code",
   "execution_count": 82,
   "metadata": {
    "id": "j2y3TAwo_Zcu"
   },
   "outputs": [
    {
     "data": {
      "text/plain": [
       "7478"
      ]
     },
     "execution_count": 82,
     "metadata": {},
     "output_type": "execute_result"
    }
   ],
   "source": [
    "number_tracks('Wednesday', 'Shelbyville')# a quantidade de músicas tocadas em Shelbyville na quarta-feira"
   ]
  },
  {
   "cell_type": "code",
   "execution_count": 83,
   "metadata": {
    "id": "vYDw5u_K_Zcu"
   },
   "outputs": [
    {
     "data": {
      "text/plain": [
       "16890"
      ]
     },
     "execution_count": 83,
     "metadata": {},
     "output_type": "execute_result"
    }
   ],
   "source": [
    "number_tracks('Friday', 'Springfield')# a quantidade de músicas tocadas em Springfield na sexta-feira"
   ]
  },
  {
   "cell_type": "code",
   "execution_count": 84,
   "metadata": {
    "id": "8_yzFtW3_Zcu"
   },
   "outputs": [
    {
     "data": {
      "text/plain": [
       "6259"
      ]
     },
     "execution_count": 84,
     "metadata": {},
     "output_type": "execute_result"
    }
   ],
   "source": [
    "number_tracks('Friday', 'Shelbyville')# a quantidade de músicas tocadas em Shelbyville na sexta-feira"
   ]
  },
  {
   "cell_type": "markdown",
   "metadata": {
    "id": "7QXffbO-_Zcu"
   },
   "source": [
    "Use `pd.DataFrame` para criar uma tabela, onde\n",
    "* Os nomes das colunas são: `['city', 'monday', 'wednesday', 'friday']`\n",
    "* Os dados são o resultado que você recebe de `number_tracks()`"
   ]
  },
  {
   "cell_type": "code",
   "execution_count": 94,
   "metadata": {
    "id": "APAcLpOr_Zcu"
   },
   "outputs": [
    {
     "data": {
      "text/html": [
       "<div>\n",
       "<style scoped>\n",
       "    .dataframe tbody tr th:only-of-type {\n",
       "        vertical-align: middle;\n",
       "    }\n",
       "\n",
       "    .dataframe tbody tr th {\n",
       "        vertical-align: top;\n",
       "    }\n",
       "\n",
       "    .dataframe thead th {\n",
       "        text-align: right;\n",
       "    }\n",
       "</style>\n",
       "<table border=\"1\" class=\"dataframe\">\n",
       "  <thead>\n",
       "    <tr style=\"text-align: right;\">\n",
       "      <th></th>\n",
       "      <th>city</th>\n",
       "      <th>monday</th>\n",
       "      <th>wednesday</th>\n",
       "      <th>friday</th>\n",
       "    </tr>\n",
       "  </thead>\n",
       "  <tbody>\n",
       "    <tr>\n",
       "      <td>0</td>\n",
       "      <td>Springfield</td>\n",
       "      <td>16715</td>\n",
       "      <td>11755</td>\n",
       "      <td>16890</td>\n",
       "    </tr>\n",
       "    <tr>\n",
       "      <td>1</td>\n",
       "      <td>Shelbyville</td>\n",
       "      <td>5982</td>\n",
       "      <td>7478</td>\n",
       "      <td>6259</td>\n",
       "    </tr>\n",
       "  </tbody>\n",
       "</table>\n",
       "</div>"
      ],
      "text/plain": [
       "          city  monday  wednesday  friday\n",
       "0  Springfield   16715      11755   16890\n",
       "1  Shelbyville    5982       7478    6259"
      ]
     },
     "execution_count": 94,
     "metadata": {},
     "output_type": "execute_result"
    }
   ],
   "source": [
    "# tabela com resultados\n",
    "columns = ['city', 'monday', 'wednesday', 'friday'] #crie uma lista com os nomes da coluna\n",
    "dados = [\n",
    "    ['Springfield', number_tracks('Monday', 'Springfield'),\n",
    "     number_tracks('Wednesday', 'Springfield'),\n",
    "     number_tracks('Friday', 'Springfield')],\n",
    "    ['Shelbyville', number_tracks('Monday', 'Shelbyville'),\n",
    "     number_tracks('Wednesday', 'Shelbyville'),\n",
    "     number_tracks('Friday', 'Shelbyville')]\n",
    "]\n",
    "  \n",
    "new_tabela = pd.DataFrame(data=dados, columns=columns)                        \n",
    "new_tabela\n",
    "          \n",
    " "
   ]
  },
  {
   "cell_type": "markdown",
   "metadata": {
    "id": "-EgPIHYu_Zcu"
   },
   "source": [
    "**Conclusões**\n",
    "\n",
    "Os dados revelam diferenças no comportamento dos usuários:\n",
    "\n",
    "- Em Springfield, a quantidade de músicas tocadas tem seu auge nas segundas e sextas-feiras, enquanto na quarta-feira há uma diminuição na atividade.\n",
    "- Em Shelbyville, ao contrário, usuários escutam mais música na quarta-feira. A atividade na segunda e sexta-feira é pequena.\n",
    "\n",
    "Então a primeira hipótese parece ser correta."
   ]
  },
  {
   "cell_type": "markdown",
   "metadata": {
    "id": "p7nFQajCVw5B"
   },
   "source": [
    "[Voltar ao Índice](#back)"
   ]
  },
  {
   "cell_type": "markdown",
   "metadata": {
    "id": "atZAxtq4_Zcu"
   },
   "source": [
    "### Hipótese 2: música no começo e no fim da semana <a id='week'></a>"
   ]
  },
  {
   "cell_type": "markdown",
   "metadata": {
    "id": "eXrQqXFH_Zcu"
   },
   "source": [
    "De acordo com a segunda hipótese, na segunda-feira de manhã e sexta-feira à noite, habitantes de Springfield escutam gêneros que diferem de alguns usuários de Shelbyville gostam."
   ]
  },
  {
   "cell_type": "markdown",
   "metadata": {
    "id": "S8UcW6Hw_Zcu"
   },
   "source": [
    "Obtenha uma tabela (certifique-se de que o nome da sua tabela combinada corresponda ao DataFrame dado em dois blocos de código abaixo):\n",
    "* Para Springfield — `spr_general`\n",
    "* Para Shelbyville — `shel_general`"
   ]
  },
  {
   "cell_type": "code",
   "execution_count": 41,
   "metadata": {
    "id": "qeaFfM_P_Zcu"
   },
   "outputs": [],
   "source": [
    "# obtendo a tabela spr_generala partir das linhas df, \n",
    "# onde o valor na coluna 'city' é 'Springfield'\n",
    "\n",
    "spr_general = df[df['city'] == 'Springfield']"
   ]
  },
  {
   "cell_type": "code",
   "execution_count": 42,
   "metadata": {
    "id": "ORaVRKto_Zcu"
   },
   "outputs": [],
   "source": [
    "# obtendo os shel_general a partir das linhas df,\n",
    "# onde os valores na coluna 'city' é 'Shelbyville'\n",
    "\n",
    "shel_general = df[df['city'] == 'Shelbyville']"
   ]
  },
  {
   "cell_type": "code",
   "execution_count": 43,
   "metadata": {
    "id": "laJT9BYl_Zcu"
   },
   "outputs": [],
   "source": [
    "# Declarando a função genre_weekday() com os parâmetros day=, time1=, e time2=. It should\n",
    "# retornar a informação sobre os gêneros mais populares em um determinado dia em um período específico:\n",
    "\n",
    "# 1) Deixe a variável genre_df armazenar as linhas que satisfazem várias condições:\n",
    "#    - o valor na coluna 'day' é igual ao valor do argumento day=\n",
    "#    - o valor na coluna 'time' é maior do que o valor do argumento time1=\n",
    "#    - o valor na coluna 'time' é menor do que o valor do argumento time2=\n",
    "#    Use filtros consecutivos com indexação lógica.\n",
    "\n",
    "# 2) Agrupe genre_df pela coluna 'genre', pegue uma das suas colunas, \n",
    "#    e use o método count() para encontrar a quantidade de entradas para entradas de cada um dos \n",
    "#    representantes de gênero; armazene o objeto Series resultante na\n",
    "#    variável genre_df_count\n",
    "\n",
    "# 3) Organize genre_df_count em ordem decrescente de frequência e armazene o resultado\n",
    "#    para a variável genre_df_sorted\n",
    "\n",
    "# 4) Retorne um objeto Series com os primeiros 15 valores genre_df_sorted - os 15 maiores\n",
    "#    generos populares (em um determinado dia, dentro de um certo intervalo de tempo)\n",
    "\n",
    "def genre_weekday(df, day, time1, time2):\n",
    "    # filtragem consecutiva\n",
    "    # genre_df armazenará apenas as linhas df onde o dia é igual a day=\n",
    "    genre_df = df[df['day'] == day]\n",
    "    # genre_df armazenará apenas aslinhas df que o tempo é menor do que time2=\n",
    "    genre_df = genre_df[genre_df['time'] < time2]\n",
    "    # genre_df armazenará apenas as linhas onde onde o tempo é maior do que time1=\n",
    "    genre_df = genre_df[genre_df['time'] > time1]\n",
    "    # agrope o DataFrame filtrado pela coluna com nomes dos gêneros, pegue a coluna gênero, e encontre o número de linhas para cada gênero com o método count()\n",
    "    genre_df_grouped = genre_df.groupby('genre')['genre'].count()\n",
    "    # nós vamos armazenar o resultado em ordem decrescente (para que os gêneros mais populares venham primeiro no objeto Series)\n",
    "    genre_df_sorted = genre_df_grouped.sort_values(ascending=False)\n",
    "    # nós vamos retornar o objeto Serie armazenando os 15 gêneros mais populares em um determinado dia, dentro de um determinado intervalo de tempo\n",
    "    return genre_df_sorted[:15]"
   ]
  },
  {
   "cell_type": "markdown",
   "metadata": {
    "id": "la2s2_PF_Zcu"
   },
   "source": [
    "Compare os resultados da função `genre_weekday()` para Springfield e Shelbyville na segunda-feira de manhã (de 7hs à 11hs) e na sexta-feira de tarde (das 17hs às 23hs):"
   ]
  },
  {
   "cell_type": "code",
   "execution_count": 44,
   "metadata": {
    "id": "yz7itPUQ_Zcu"
   },
   "outputs": [
    {
     "data": {
      "text/plain": [
       "genre\n",
       "pop            830\n",
       "dance          589\n",
       "rock           511\n",
       "electronic     501\n",
       "hiphop         311\n",
       "ruspop         203\n",
       "world          190\n",
       "rusrap         188\n",
       "alternative    175\n",
       "unknown        172\n",
       "classical      167\n",
       "metal          126\n",
       "jazz           109\n",
       "folk           107\n",
       "soundtrack      97\n",
       "Name: genre, dtype: int64"
      ]
     },
     "execution_count": 44,
     "metadata": {},
     "output_type": "execute_result"
    }
   ],
   "source": [
    "# chamando a função para segunda-feira de manha em Springfield (use spr_general em vez de df table)\n",
    "\n",
    "genre_weekday(spr_general, 'Monday', '07:00', '11:00')"
   ]
  },
  {
   "cell_type": "code",
   "execution_count": 45,
   "metadata": {
    "id": "kwUcHPdy_Zcu"
   },
   "outputs": [
    {
     "data": {
      "text/plain": [
       "genre\n",
       "pop            238\n",
       "dance          192\n",
       "rock           173\n",
       "electronic     154\n",
       "hiphop          88\n",
       "ruspop          68\n",
       "alternative     65\n",
       "rusrap          56\n",
       "jazz            47\n",
       "classical       42\n",
       "world           39\n",
       "soundtrack      34\n",
       "rap             33\n",
       "rnb             31\n",
       "metal           28\n",
       "Name: genre, dtype: int64"
      ]
     },
     "execution_count": 45,
     "metadata": {},
     "output_type": "execute_result"
    }
   ],
   "source": [
    "# chamando a função para segunda-feira de manhã em Shelbyville (use shel_general em vez de df table)\n",
    "\n",
    "genre_weekday(shel_general, 'Monday', '07:00', '11:00')"
   ]
  },
  {
   "cell_type": "code",
   "execution_count": 46,
   "metadata": {
    "id": "EzXVRE1o_Zcu"
   },
   "outputs": [
    {
     "data": {
      "text/plain": [
       "genre\n",
       "pop            761\n",
       "rock           546\n",
       "dance          521\n",
       "electronic     510\n",
       "hiphop         282\n",
       "world          220\n",
       "ruspop         184\n",
       "alternative    176\n",
       "classical      171\n",
       "rusrap         151\n",
       "jazz           121\n",
       "unknown        117\n",
       "soundtrack     112\n",
       "metal           92\n",
       "rnb             92\n",
       "Name: genre, dtype: int64"
      ]
     },
     "execution_count": 46,
     "metadata": {},
     "output_type": "execute_result"
    }
   ],
   "source": [
    "# chamando a função para sexta-feira à tarde em Springfield\n",
    "\n",
    "genre_weekday(spr_general, 'Friday', '17:00', '23:00')"
   ]
  },
  {
   "cell_type": "code",
   "execution_count": 47,
   "metadata": {
    "id": "JZaEKu5v_Zcu"
   },
   "outputs": [
    {
     "data": {
      "text/plain": [
       "genre\n",
       "pop            279\n",
       "rock           230\n",
       "electronic     227\n",
       "dance          221\n",
       "hiphop         103\n",
       "alternative     67\n",
       "jazz            66\n",
       "rusrap          66\n",
       "classical       64\n",
       "world           60\n",
       "unknown         49\n",
       "ruspop          49\n",
       "soundtrack      40\n",
       "metal           39\n",
       "rap             39\n",
       "Name: genre, dtype: int64"
      ]
     },
     "execution_count": 47,
     "metadata": {},
     "output_type": "execute_result"
    }
   ],
   "source": [
    "# chamando a função para sexta-feira à tarde em Shelbyville\n",
    "\n",
    "genre_weekday(shel_general, 'Friday', '17:00', '23:00')"
   ]
  },
  {
   "cell_type": "markdown",
   "metadata": {
    "id": "wrCe4MNX_Zcu"
   },
   "source": [
    "**Conclusão**\n",
    "\n",
    "Tendo comparado os 15 gêneros mais ouvidos na segunda-feira de manhã, nós podemos tirar as seguintes conclusões:\n",
    "\n",
    "1. Usuários de Springfield e Shelbyville escutam músicas semelhantes. Os cinco gêneros mais ouvidos são os mesmos, apenas rock e música eletrônica trocaram de lugar.\n",
    "\n",
    "2. Em Springfield, a quantidade de valores ausentes acabaram por serem tantos que o valor `'unknown'` veio em 10º. Isso significa que valores ausentes tiveram uma considerável porção dos dados, que pode ser a base para questionamentos a confiabilidade das conclusões.\n",
    "\n",
    "Para sexta-feira à tarde, a situação é parecida. Gêneros individuais variam um pouco, mas no todo, os 15 gêneros mais ouvidos são parecidos para as duas cidades.\n",
    "\n",
    "Assim, a segunda hipótese foi parcialmente provada:\n",
    "* Usuários escutam gêneros musicais parecidos no começo e no fim da semana.\n",
    "* Não há grande diferença entre Springfield e Shelbyville. Nas duas cidades, pop é o gênero mais popular.\n",
    "\n",
    "No entanto, o número de valores ausentes faz esse resultado ser questionável. Em Springfield, há tantos que eles afetaram o top 15. Se não nos faltassem esses valores, as coisas poderiam ser diferentes."
   ]
  },
  {
   "cell_type": "markdown",
   "metadata": {
    "id": "jLmXgdanVyhP"
   },
   "source": [
    "[Voltar ao Índice](#back)"
   ]
  },
  {
   "cell_type": "markdown",
   "metadata": {
    "id": "JolODAqr_Zcu"
   },
   "source": [
    "### Hipótese 3: preferências em Springfield e Shelbyville <a id='genre'></a>\n",
    "\n",
    "Hipótese: Shelbyville ama rap. Cidadãos de Springfield curtem mais pop."
   ]
  },
  {
   "cell_type": "markdown",
   "metadata": {
    "id": "DlegSvaT_Zcu"
   },
   "source": [
    "Agrupe a tabela `spr_general` por gênero e encontre o número de músicas tocadas para cada gênero com o método `count()`. Depois organize o resultado em ordem decrescente e armazene-o em `spr_genres`."
   ]
  },
  {
   "cell_type": "code",
   "execution_count": 48,
   "metadata": {
    "id": "r19lIPke_Zcu"
   },
   "outputs": [],
   "source": [
    "\n",
    "# em uma linha: agrupe a tabela spr_general pela coluna 'genre',\n",
    "spr_genres = spr_general.groupby('genre')['genre'].count() # conte os valores de 'genre' com count() no agrupamento, \n",
    "spr_genres_sorted = spr_genres.sort_values(ascending=False) # organize o o objeto Series resultante em ordem decrescente, e armazene-o em spr_genres\n",
    " "
   ]
  },
  {
   "cell_type": "markdown",
   "metadata": {
    "id": "6kMuomxTiIr8"
   },
   "source": [
    "Exiba as primeiras 10 linhas de `spr_genres`:"
   ]
  },
  {
   "cell_type": "code",
   "execution_count": 49,
   "metadata": {
    "id": "WhCSooF8_Zcv"
   },
   "outputs": [
    {
     "data": {
      "text/plain": [
       "genre\n",
       "pop            6253\n",
       "dance          4707\n",
       "rock           4188\n",
       "electronic     4010\n",
       "hiphop         2215\n",
       "classical      1712\n",
       "world          1516\n",
       "alternative    1466\n",
       "ruspop         1453\n",
       "rusrap         1239\n",
       "Name: genre, dtype: int64"
      ]
     },
     "execution_count": 49,
     "metadata": {},
     "output_type": "execute_result"
    }
   ],
   "source": [
    "spr_genres_sorted.head(10)# exibindo as primeiras 10 linhas de spr_genres"
   ]
  },
  {
   "cell_type": "markdown",
   "metadata": {
    "id": "cnPG2vnN_Zcv"
   },
   "source": [
    "Agora faça o mesmo com os dados de Shelbyville.\n",
    "\n",
    "Agrupe a tabela `shel_general` por gênero e encontre o número de músicas tocadas de cada gênero. Depois organize o resultado em ordem decrescente e armazene-o na tabela `shel_genres`:\n"
   ]
  },
  {
   "cell_type": "code",
   "execution_count": 50,
   "metadata": {
    "id": "gluLIpE7_Zcv"
   },
   "outputs": [],
   "source": [
    "# na linha um: agrupe a tabela shel_general pela coluna 'genre', \n",
    "shel_general = shel_general.groupby('genre')['genre'].count()\n",
    "    # conte os valores de 'genre' com count() no agrupamento, \n",
    "shel_general_sorted = shel_general.sort_values(ascending=False)\n",
    "# conte os valores 'genre' no agrupamento com count(), \n",
    "# organize a o objeto Series resultante em ordem decrescente e armazene-o em shel_genres"
   ]
  },
  {
   "cell_type": "markdown",
   "metadata": {
    "id": "5Doha_ODgyQ8"
   },
   "source": [
    "Exiba as 10 primeiras linhas de `shel_genres`:"
   ]
  },
  {
   "cell_type": "code",
   "execution_count": 51,
   "metadata": {
    "id": "uaGJHjVU_Zcv"
   },
   "outputs": [
    {
     "data": {
      "text/plain": [
       "genre\n",
       "pop            2597\n",
       "dance          2054\n",
       "rock           2004\n",
       "electronic     1842\n",
       "hiphop         1020\n",
       "alternative     700\n",
       "classical       684\n",
       "rusrap          604\n",
       "ruspop          565\n",
       "world           553\n",
       "Name: genre, dtype: int64"
      ]
     },
     "execution_count": 51,
     "metadata": {},
     "output_type": "execute_result"
    }
   ],
   "source": [
    "shel_general_sorted.head(10)# exibindo as 10 primeiras linhas de shel_genres"
   ]
  },
  {
   "cell_type": "markdown",
   "metadata": {
    "id": "RY51YJYu_Zcv"
   },
   "source": [
    "**Conclusão**"
   ]
  },
  {
   "cell_type": "markdown",
   "metadata": {
    "id": "nVhnJEm__Zcv"
   },
   "source": [
    "A hipótese foi parcialmente provada:\n",
    "* Música pop é o gênero mais em Springfield, como esperado.\n",
    "* Entretanto, música pop acabou por ser igualmente popular em Springfield e Shelbyville, e rap não estava no top 5 em nenhuma cidade.\n"
   ]
  },
  {
   "cell_type": "markdown",
   "metadata": {
    "id": "Byr0RfpPVz14"
   },
   "source": [
    "[Voltar ao Índice](#back)"
   ]
  },
  {
   "cell_type": "markdown",
   "metadata": {
    "id": "ykKQ0N65_Zcv"
   },
   "source": [
    "# Conclusões <a id='end'></a>"
   ]
  },
  {
   "cell_type": "markdown",
   "metadata": {
    "id": "tjUwbHb3_Zcv"
   },
   "source": [
    "Nós testamos as três hipóteses seguintes:\n",
    "\n",
    "1. A atividade do usuário varia dependendo do dia da semana e da cidade. \n",
    "2. Nas segundas-feiras de manhã, os habitantes de Springfield e Shelbyville escutam diferentes gêneros. Isso também é verdadeiro para noites de sexta-feira. \n",
    "3. Ouvintes de Springfield e Shelbyville têm preferências diferentes. Tanto em Springfield como Shellbyville, eles preferem pop.\n",
    "\n",
    "Depois de analisar os dados, nós concluímos:\n",
    "\n",
    "1. A atividade do usuário em Springfield e Shelbyville depende do dia da semana, embora as cidades variam de formas diferentes. \n",
    "\n",
    "A primeira hipótese é totalmente aceita.\n",
    "\n",
    "2. As preferências musicais não variam significativamente ao decorrer da semana tanto em Springfield como em Shelbyville. Nós podemos ver pequenas diferenças na ordem nas segundas-feiras, mas:\n",
    "* Em Springfield e Shelbyville, as pessoas escutam mais música pop.\n",
    "\n",
    "Então nós podemos aceitar essa hipótese. Nós devemos também ter em mente que o resultado pode ter sido diferente se não fosse pelos valores ausentes.\n",
    "\n",
    "3. Acontece que preferências musicais dos usuários de Springfield e Shelbyville são bastante parecidas.\n",
    "\n",
    "A terceira hipótese foi rejeitada. Se há alguma diferença nas preferências, ela não pode ser vista nesses dados.\n",
    "\n",
    "### Observação \n",
    "Em projetos reais, pesquisas envolvendo teste estatístico de hipóteses, que é mais preciso e mais quantitativo. Também perceba que você não pode sempre tirar conclusões sobre uma cidade inteira com base em dados de apenas uma fonte.\n",
    "\n",
    "Você Vai estudar teste de hipóteses no sprint sobre análise estatística de dados."
   ]
  },
  {
   "cell_type": "markdown",
   "metadata": {
    "id": "Ju4AHDSgV1FE"
   },
   "source": [
    "[Voltar ao Índice](#back)"
   ]
  }
 ],
 "metadata": {
  "ExecuteTimeLog": [
   {
    "duration": 636,
    "start_time": "2022-03-05T15:16:40.441Z"
   },
   {
    "duration": 120,
    "start_time": "2022-03-05T15:17:02.180Z"
   },
   {
    "duration": 119,
    "start_time": "2022-03-05T15:17:07.819Z"
   },
   {
    "duration": 253,
    "start_time": "2022-03-05T18:35:51.551Z"
   },
   {
    "duration": 203,
    "start_time": "2022-03-05T18:36:04.539Z"
   },
   {
    "duration": 731,
    "start_time": "2022-03-05T18:36:13.677Z"
   },
   {
    "duration": 138,
    "start_time": "2022-03-05T18:36:18.775Z"
   },
   {
    "duration": 8,
    "start_time": "2022-03-05T18:36:25.599Z"
   },
   {
    "duration": 28,
    "start_time": "2022-03-05T18:40:24.345Z"
   },
   {
    "duration": 4,
    "start_time": "2022-03-05T18:56:03.217Z"
   },
   {
    "duration": 83,
    "start_time": "2022-03-05T23:08:46.644Z"
   },
   {
    "duration": 22,
    "start_time": "2022-03-05T23:08:54.632Z"
   },
   {
    "duration": 20,
    "start_time": "2022-03-05T23:09:03.347Z"
   },
   {
    "duration": 4,
    "start_time": "2022-03-05T23:09:30.820Z"
   },
   {
    "duration": 17,
    "start_time": "2022-03-05T23:10:06.487Z"
   },
   {
    "duration": 3,
    "start_time": "2022-03-05T23:10:11.267Z"
   },
   {
    "duration": 13,
    "start_time": "2022-03-05T23:10:18.506Z"
   },
   {
    "duration": 3,
    "start_time": "2022-03-05T23:10:21.210Z"
   },
   {
    "duration": 14,
    "start_time": "2022-03-05T23:10:48.401Z"
   },
   {
    "duration": 3,
    "start_time": "2022-03-05T23:10:51.569Z"
   },
   {
    "duration": 19,
    "start_time": "2022-03-05T23:11:26.684Z"
   },
   {
    "duration": 4,
    "start_time": "2022-03-05T23:11:30.177Z"
   },
   {
    "duration": 68,
    "start_time": "2022-03-05T23:12:04.751Z"
   },
   {
    "duration": 14,
    "start_time": "2022-03-05T23:12:20.290Z"
   },
   {
    "duration": 3,
    "start_time": "2022-03-05T23:12:24.487Z"
   },
   {
    "duration": 347,
    "start_time": "2022-03-06T15:36:01.289Z"
   },
   {
    "duration": 277,
    "start_time": "2022-03-06T15:37:02.507Z"
   },
   {
    "duration": 237,
    "start_time": "2022-03-06T15:37:37.842Z"
   },
   {
    "duration": 229,
    "start_time": "2022-03-06T15:38:03.320Z"
   },
   {
    "duration": 944,
    "start_time": "2022-03-06T15:38:20.974Z"
   },
   {
    "duration": 178,
    "start_time": "2022-03-06T15:38:26.793Z"
   },
   {
    "duration": 10,
    "start_time": "2022-03-06T15:38:31.645Z"
   },
   {
    "duration": 29,
    "start_time": "2022-03-06T15:38:36.480Z"
   },
   {
    "duration": 5,
    "start_time": "2022-03-06T15:38:42.716Z"
   },
   {
    "duration": 5,
    "start_time": "2022-03-06T15:38:47.248Z"
   },
   {
    "duration": 73,
    "start_time": "2022-03-06T15:40:08.582Z"
   },
   {
    "duration": 31,
    "start_time": "2022-03-06T15:40:15.996Z"
   },
   {
    "duration": 276,
    "start_time": "2022-03-06T15:47:16.302Z"
   },
   {
    "duration": 238,
    "start_time": "2022-03-06T15:47:47.879Z"
   },
   {
    "duration": 232,
    "start_time": "2022-03-06T16:19:23.402Z"
   },
   {
    "duration": 6874,
    "start_time": "2022-03-06T16:19:50.359Z"
   },
   {
    "duration": -236,
    "start_time": "2022-03-06T16:20:08.273Z"
   },
   {
    "duration": 5926,
    "start_time": "2022-03-06T16:20:27.217Z"
   },
   {
    "duration": 5821,
    "start_time": "2022-03-06T16:20:47.723Z"
   },
   {
    "duration": 6580,
    "start_time": "2022-03-06T16:21:54.039Z"
   },
   {
    "duration": 79,
    "start_time": "2022-03-06T16:27:56.394Z"
   },
   {
    "duration": 79,
    "start_time": "2022-03-06T16:28:34.782Z"
   },
   {
    "duration": 77,
    "start_time": "2022-03-06T16:28:47.251Z"
   },
   {
    "duration": 89,
    "start_time": "2022-03-06T16:29:51.982Z"
   },
   {
    "duration": 74,
    "start_time": "2022-03-06T16:30:05.972Z"
   },
   {
    "duration": 87,
    "start_time": "2022-03-06T16:36:06.108Z"
   },
   {
    "duration": 29,
    "start_time": "2022-03-06T16:42:14.555Z"
   },
   {
    "duration": 80,
    "start_time": "2022-03-06T16:42:46.521Z"
   },
   {
    "duration": 74,
    "start_time": "2022-03-06T16:43:49.533Z"
   },
   {
    "duration": 79,
    "start_time": "2022-03-06T16:44:22.767Z"
   },
   {
    "duration": 74,
    "start_time": "2022-03-06T16:44:40.999Z"
   },
   {
    "duration": 8,
    "start_time": "2022-03-06T16:48:12.429Z"
   },
   {
    "duration": 4,
    "start_time": "2022-03-06T16:55:44.492Z"
   },
   {
    "duration": 396,
    "start_time": "2022-03-06T17:04:10.980Z"
   },
   {
    "duration": 682,
    "start_time": "2022-03-06T17:04:50.976Z"
   },
   {
    "duration": 22,
    "start_time": "2022-03-06T17:06:03.101Z"
   },
   {
    "duration": 5642,
    "start_time": "2022-03-06T22:11:53.424Z"
   },
   {
    "duration": 287,
    "start_time": "2022-03-06T22:12:32.304Z"
   },
   {
    "duration": 246,
    "start_time": "2022-03-06T22:12:54.136Z"
   },
   {
    "duration": 3,
    "start_time": "2022-03-06T22:13:05.860Z"
   },
   {
    "duration": 246,
    "start_time": "2022-03-06T23:32:12.670Z"
   },
   {
    "duration": 5,
    "start_time": "2022-03-06T23:33:01.983Z"
   },
   {
    "duration": 5,
    "start_time": "2022-03-06T23:33:21.426Z"
   },
   {
    "duration": 20,
    "start_time": "2022-03-06T23:33:47.193Z"
   },
   {
    "duration": 5,
    "start_time": "2022-03-06T23:33:55.025Z"
   },
   {
    "duration": 27,
    "start_time": "2022-03-06T23:34:03.381Z"
   },
   {
    "duration": 5,
    "start_time": "2022-03-06T23:34:47.063Z"
   },
   {
    "duration": 26,
    "start_time": "2022-03-06T23:34:55.982Z"
   },
   {
    "duration": 28,
    "start_time": "2022-03-06T23:36:18.238Z"
   },
   {
    "duration": 84,
    "start_time": "2022-03-06T23:36:23.629Z"
   },
   {
    "duration": 83,
    "start_time": "2022-03-06T23:36:56.230Z"
   },
   {
    "duration": 21,
    "start_time": "2022-03-06T23:37:22.829Z"
   },
   {
    "duration": 29,
    "start_time": "2022-03-06T23:37:28.846Z"
   },
   {
    "duration": 74,
    "start_time": "2022-03-06T23:37:45.208Z"
   },
   {
    "duration": 75,
    "start_time": "2022-03-06T23:37:48.765Z"
   },
   {
    "duration": 68,
    "start_time": "2022-03-06T23:37:55.446Z"
   },
   {
    "duration": 9,
    "start_time": "2022-03-06T23:38:10.548Z"
   },
   {
    "duration": 232,
    "start_time": "2022-03-06T23:43:25.720Z"
   },
   {
    "duration": 242,
    "start_time": "2022-03-06T23:43:58.579Z"
   },
   {
    "duration": 15,
    "start_time": "2022-03-06T23:44:20.573Z"
   },
   {
    "duration": 311,
    "start_time": "2022-03-08T01:17:20.587Z"
   },
   {
    "duration": 58,
    "start_time": "2022-03-09T20:25:30.704Z"
   },
   {
    "duration": 210,
    "start_time": "2022-03-09T20:25:41.758Z"
   },
   {
    "duration": 183,
    "start_time": "2022-03-09T20:25:59.650Z"
   },
   {
    "duration": 188,
    "start_time": "2022-03-09T20:26:44.609Z"
   },
   {
    "duration": 194,
    "start_time": "2022-03-09T20:27:35.208Z"
   },
   {
    "duration": 161,
    "start_time": "2022-03-09T20:28:46.773Z"
   },
   {
    "duration": 164,
    "start_time": "2022-03-09T20:29:06.874Z"
   },
   {
    "duration": 700,
    "start_time": "2022-03-09T20:30:33.465Z"
   },
   {
    "duration": 191,
    "start_time": "2022-03-09T20:30:48.408Z"
   },
   {
    "duration": 140,
    "start_time": "2022-03-09T20:31:02.435Z"
   },
   {
    "duration": 7,
    "start_time": "2022-03-09T20:31:06.237Z"
   },
   {
    "duration": 27,
    "start_time": "2022-03-09T20:31:12.717Z"
   },
   {
    "duration": 4,
    "start_time": "2022-03-09T20:31:17.969Z"
   },
   {
    "duration": 3,
    "start_time": "2022-03-09T20:31:21.459Z"
   },
   {
    "duration": 23,
    "start_time": "2022-03-09T20:31:25.175Z"
   },
   {
    "duration": 4084,
    "start_time": "2022-03-09T20:31:30.988Z"
   },
   {
    "duration": 21,
    "start_time": "2022-03-09T20:31:42.633Z"
   },
   {
    "duration": 58,
    "start_time": "2022-03-09T20:31:46.083Z"
   },
   {
    "duration": 62,
    "start_time": "2022-03-09T20:31:50.448Z"
   },
   {
    "duration": 6,
    "start_time": "2022-03-09T20:31:53.815Z"
   },
   {
    "duration": 171,
    "start_time": "2022-03-09T20:32:03.596Z"
   },
   {
    "duration": 17,
    "start_time": "2022-03-09T20:32:12.014Z"
   },
   {
    "duration": 163,
    "start_time": "2022-03-09T20:32:28.854Z"
   },
   {
    "duration": 4379,
    "start_time": "2022-03-09T20:33:03.270Z"
   },
   {
    "duration": 22,
    "start_time": "2022-03-09T20:33:35.671Z"
   },
   {
    "duration": 3,
    "start_time": "2022-03-09T20:33:42.475Z"
   },
   {
    "duration": 17,
    "start_time": "2022-03-09T20:33:51.050Z"
   },
   {
    "duration": 16,
    "start_time": "2022-03-09T20:33:59.679Z"
   },
   {
    "duration": 11,
    "start_time": "2022-03-09T20:34:04.495Z"
   },
   {
    "duration": 9,
    "start_time": "2022-03-09T20:34:17.329Z"
   },
   {
    "duration": 10,
    "start_time": "2022-03-09T20:34:51.213Z"
   },
   {
    "duration": 1081,
    "start_time": "2022-03-09T21:16:16.855Z"
   },
   {
    "duration": 279,
    "start_time": "2022-03-09T21:16:17.940Z"
   },
   {
    "duration": 11,
    "start_time": "2022-03-09T21:16:18.223Z"
   },
   {
    "duration": 64,
    "start_time": "2022-03-09T21:16:18.237Z"
   },
   {
    "duration": 10,
    "start_time": "2022-03-09T21:16:18.304Z"
   },
   {
    "duration": 37,
    "start_time": "2022-03-09T21:16:18.316Z"
   },
   {
    "duration": 19,
    "start_time": "2022-03-09T21:16:18.355Z"
   },
   {
    "duration": 33,
    "start_time": "2022-03-09T21:16:18.376Z"
   },
   {
    "duration": 24,
    "start_time": "2022-03-09T21:16:18.411Z"
   },
   {
    "duration": 23,
    "start_time": "2022-03-09T21:16:18.437Z"
   },
   {
    "duration": 57,
    "start_time": "2022-03-09T21:16:18.462Z"
   },
   {
    "duration": 76,
    "start_time": "2022-03-09T21:16:18.521Z"
   },
   {
    "duration": 63,
    "start_time": "2022-03-09T21:16:18.600Z"
   },
   {
    "duration": 6,
    "start_time": "2022-03-09T21:16:18.665Z"
   },
   {
    "duration": 20,
    "start_time": "2022-03-09T21:16:18.673Z"
   },
   {
    "duration": 2,
    "start_time": "2022-03-09T21:16:18.695Z"
   },
   {
    "duration": 5,
    "start_time": "2022-03-09T21:16:18.699Z"
   },
   {
    "duration": 15,
    "start_time": "2022-03-09T21:16:18.707Z"
   },
   {
    "duration": 41,
    "start_time": "2022-03-09T21:16:18.725Z"
   },
   {
    "duration": 74,
    "start_time": "2022-03-09T21:16:18.768Z"
   },
   {
    "duration": -327,
    "start_time": "2022-03-09T21:16:19.171Z"
   },
   {
    "duration": -330,
    "start_time": "2022-03-09T21:16:19.175Z"
   },
   {
    "duration": -340,
    "start_time": "2022-03-09T21:16:19.186Z"
   },
   {
    "duration": -342,
    "start_time": "2022-03-09T21:16:19.189Z"
   },
   {
    "duration": -351,
    "start_time": "2022-03-09T21:16:19.200Z"
   },
   {
    "duration": -354,
    "start_time": "2022-03-09T21:16:19.204Z"
   },
   {
    "duration": -358,
    "start_time": "2022-03-09T21:16:19.209Z"
   },
   {
    "duration": -365,
    "start_time": "2022-03-09T21:16:19.217Z"
   },
   {
    "duration": -367,
    "start_time": "2022-03-09T21:16:19.220Z"
   },
   {
    "duration": -370,
    "start_time": "2022-03-09T21:16:19.224Z"
   },
   {
    "duration": -378,
    "start_time": "2022-03-09T21:16:19.233Z"
   },
   {
    "duration": -381,
    "start_time": "2022-03-09T21:16:19.237Z"
   },
   {
    "duration": -385,
    "start_time": "2022-03-09T21:16:19.242Z"
   },
   {
    "duration": -391,
    "start_time": "2022-03-09T21:16:19.249Z"
   },
   {
    "duration": -395,
    "start_time": "2022-03-09T21:16:19.254Z"
   },
   {
    "duration": -399,
    "start_time": "2022-03-09T21:16:19.259Z"
   },
   {
    "duration": -406,
    "start_time": "2022-03-09T21:16:19.267Z"
   },
   {
    "duration": -408,
    "start_time": "2022-03-09T21:16:19.270Z"
   },
   {
    "duration": 292,
    "start_time": "2022-03-09T21:52:23.295Z"
   },
   {
    "duration": 9,
    "start_time": "2022-03-09T21:52:35.139Z"
   },
   {
    "duration": 4,
    "start_time": "2022-03-09T22:12:20.477Z"
   },
   {
    "duration": 236,
    "start_time": "2022-03-09T22:12:23.413Z"
   },
   {
    "duration": 13,
    "start_time": "2022-03-09T22:12:30.455Z"
   },
   {
    "duration": 20,
    "start_time": "2022-03-09T22:12:37.387Z"
   },
   {
    "duration": 273,
    "start_time": "2022-03-09T22:12:39.645Z"
   },
   {
    "duration": 1019,
    "start_time": "2022-03-09T22:12:48.526Z"
   },
   {
    "duration": 141,
    "start_time": "2022-03-09T22:12:49.547Z"
   },
   {
    "duration": 6,
    "start_time": "2022-03-09T22:12:49.690Z"
   },
   {
    "duration": 26,
    "start_time": "2022-03-09T22:12:49.699Z"
   },
   {
    "duration": 5,
    "start_time": "2022-03-09T22:12:49.727Z"
   },
   {
    "duration": 42,
    "start_time": "2022-03-09T22:12:49.734Z"
   },
   {
    "duration": 5,
    "start_time": "2022-03-09T22:12:49.778Z"
   },
   {
    "duration": 22,
    "start_time": "2022-03-09T22:12:49.785Z"
   },
   {
    "duration": 18,
    "start_time": "2022-03-09T22:12:49.808Z"
   },
   {
    "duration": 51,
    "start_time": "2022-03-09T22:12:49.827Z"
   },
   {
    "duration": 53,
    "start_time": "2022-03-09T22:12:49.880Z"
   },
   {
    "duration": 81,
    "start_time": "2022-03-09T22:12:49.935Z"
   },
   {
    "duration": 61,
    "start_time": "2022-03-09T22:12:50.019Z"
   },
   {
    "duration": 7,
    "start_time": "2022-03-09T22:12:50.081Z"
   },
   {
    "duration": 14,
    "start_time": "2022-03-09T22:12:50.089Z"
   },
   {
    "duration": 2,
    "start_time": "2022-03-09T22:12:50.105Z"
   },
   {
    "duration": 5,
    "start_time": "2022-03-09T22:12:50.108Z"
   },
   {
    "duration": 13,
    "start_time": "2022-03-09T22:12:50.114Z"
   },
   {
    "duration": 39,
    "start_time": "2022-03-09T22:12:50.128Z"
   },
   {
    "duration": 76,
    "start_time": "2022-03-09T22:12:50.168Z"
   },
   {
    "duration": -103,
    "start_time": "2022-03-09T22:12:50.350Z"
   },
   {
    "duration": -316,
    "start_time": "2022-03-09T22:12:50.564Z"
   },
   {
    "duration": -320,
    "start_time": "2022-03-09T22:12:50.569Z"
   },
   {
    "duration": -331,
    "start_time": "2022-03-09T22:12:50.581Z"
   },
   {
    "duration": -334,
    "start_time": "2022-03-09T22:12:50.585Z"
   },
   {
    "duration": -346,
    "start_time": "2022-03-09T22:12:50.598Z"
   },
   {
    "duration": -350,
    "start_time": "2022-03-09T22:12:50.603Z"
   },
   {
    "duration": -361,
    "start_time": "2022-03-09T22:12:50.615Z"
   },
   {
    "duration": -363,
    "start_time": "2022-03-09T22:12:50.618Z"
   },
   {
    "duration": -374,
    "start_time": "2022-03-09T22:12:50.630Z"
   },
   {
    "duration": -377,
    "start_time": "2022-03-09T22:12:50.634Z"
   },
   {
    "duration": -387,
    "start_time": "2022-03-09T22:12:50.646Z"
   },
   {
    "duration": -390,
    "start_time": "2022-03-09T22:12:50.649Z"
   },
   {
    "duration": -394,
    "start_time": "2022-03-09T22:12:50.654Z"
   },
   {
    "duration": -403,
    "start_time": "2022-03-09T22:12:50.664Z"
   },
   {
    "duration": -409,
    "start_time": "2022-03-09T22:12:50.671Z"
   },
   {
    "duration": -418,
    "start_time": "2022-03-09T22:12:50.681Z"
   },
   {
    "duration": -421,
    "start_time": "2022-03-09T22:12:50.685Z"
   },
   {
    "duration": 324,
    "start_time": "2022-03-09T22:12:57.473Z"
   },
   {
    "duration": 4,
    "start_time": "2022-03-09T22:13:03.839Z"
   },
   {
    "duration": 220,
    "start_time": "2022-03-09T22:13:06.701Z"
   },
   {
    "duration": 17,
    "start_time": "2022-03-09T22:13:10.171Z"
   },
   {
    "duration": 16,
    "start_time": "2022-03-09T22:13:10.668Z"
   },
   {
    "duration": 6,
    "start_time": "2022-03-09T22:13:13.746Z"
   },
   {
    "duration": 19,
    "start_time": "2022-03-09T22:13:15.892Z"
   },
   {
    "duration": 13,
    "start_time": "2022-03-09T22:13:16.872Z"
   },
   {
    "duration": 20,
    "start_time": "2022-03-09T22:13:17.728Z"
   },
   {
    "duration": 16,
    "start_time": "2022-03-09T22:13:18.568Z"
   },
   {
    "duration": 137,
    "start_time": "2022-03-09T22:26:30.133Z"
   },
   {
    "duration": 238,
    "start_time": "2022-03-11T18:53:01.709Z"
   },
   {
    "duration": 617,
    "start_time": "2022-03-11T18:53:09.941Z"
   },
   {
    "duration": 124,
    "start_time": "2022-03-11T18:53:13.159Z"
   },
   {
    "duration": 23,
    "start_time": "2022-03-11T18:53:16.082Z"
   },
   {
    "duration": 134,
    "start_time": "2022-03-11T18:53:34.914Z"
   },
   {
    "duration": 12,
    "start_time": "2022-03-11T18:53:46.153Z"
   },
   {
    "duration": 4,
    "start_time": "2022-03-11T18:54:57.387Z"
   },
   {
    "duration": 21,
    "start_time": "2022-03-11T18:55:18.056Z"
   },
   {
    "duration": 4,
    "start_time": "2022-03-11T18:55:29.502Z"
   },
   {
    "duration": 21,
    "start_time": "2022-03-11T18:55:39.403Z"
   },
   {
    "duration": 22,
    "start_time": "2022-03-11T18:56:04.230Z"
   },
   {
    "duration": 68,
    "start_time": "2022-03-11T18:57:18.126Z"
   },
   {
    "duration": 23,
    "start_time": "2022-03-11T20:26:02.969Z"
   },
   {
    "duration": 212,
    "start_time": "2022-03-11T20:34:50.702Z"
   },
   {
    "duration": 67,
    "start_time": "2022-03-11T20:35:07.634Z"
   },
   {
    "duration": 72,
    "start_time": "2022-03-11T20:38:27.967Z"
   },
   {
    "duration": 64,
    "start_time": "2022-03-11T20:39:10.250Z"
   },
   {
    "duration": 71,
    "start_time": "2022-03-11T20:40:00.840Z"
   },
   {
    "duration": 225,
    "start_time": "2022-03-11T20:40:10.130Z"
   },
   {
    "duration": 176,
    "start_time": "2022-03-11T20:40:22.876Z"
   },
   {
    "duration": 193,
    "start_time": "2022-03-11T20:41:43.543Z"
   },
   {
    "duration": 73,
    "start_time": "2022-03-11T20:45:53.647Z"
   },
   {
    "duration": 11,
    "start_time": "2022-03-11T20:46:04.429Z"
   },
   {
    "duration": 51,
    "start_time": "2022-03-11T20:46:28.914Z"
   },
   {
    "duration": 45,
    "start_time": "2022-03-11T20:48:12.459Z"
   },
   {
    "duration": 301,
    "start_time": "2022-03-11T20:50:29.740Z"
   },
   {
    "duration": 15,
    "start_time": "2022-03-11T20:50:39.841Z"
   },
   {
    "duration": 15,
    "start_time": "2022-03-11T20:50:53.014Z"
   },
   {
    "duration": 4678,
    "start_time": "2022-03-11T20:54:50.409Z"
   },
   {
    "duration": 4,
    "start_time": "2022-03-11T20:56:03.957Z"
   },
   {
    "duration": 59,
    "start_time": "2022-03-11T21:10:12.648Z"
   },
   {
    "duration": 179,
    "start_time": "2022-03-11T21:10:57.982Z"
   },
   {
    "duration": 3,
    "start_time": "2022-03-11T21:11:27.384Z"
   },
   {
    "duration": 4,
    "start_time": "2022-03-11T21:11:53.552Z"
   },
   {
    "duration": 188,
    "start_time": "2022-03-11T21:14:26.506Z"
   },
   {
    "duration": 193,
    "start_time": "2022-03-11T21:15:37.426Z"
   },
   {
    "duration": 4,
    "start_time": "2022-03-11T21:15:51.514Z"
   },
   {
    "duration": 3,
    "start_time": "2022-03-11T21:16:36.818Z"
   },
   {
    "duration": 219,
    "start_time": "2022-03-11T21:17:13.908Z"
   },
   {
    "duration": 178,
    "start_time": "2022-03-11T21:20:12.140Z"
   },
   {
    "duration": 65,
    "start_time": "2022-03-11T21:20:32.571Z"
   },
   {
    "duration": 72,
    "start_time": "2022-03-11T21:20:47.964Z"
   },
   {
    "duration": 60,
    "start_time": "2022-03-11T21:20:55.310Z"
   },
   {
    "duration": 79,
    "start_time": "2022-03-11T21:21:02.627Z"
   },
   {
    "duration": 64,
    "start_time": "2022-03-11T21:21:08.133Z"
   },
   {
    "duration": 87,
    "start_time": "2022-03-11T21:21:14.494Z"
   },
   {
    "duration": 4,
    "start_time": "2022-03-11T21:21:23.155Z"
   },
   {
    "duration": 8,
    "start_time": "2022-03-11T21:22:34.303Z"
   },
   {
    "duration": 7,
    "start_time": "2022-03-11T21:23:06.413Z"
   },
   {
    "duration": 69,
    "start_time": "2022-03-11T21:24:38.841Z"
   },
   {
    "duration": 3,
    "start_time": "2022-03-11T21:24:48.695Z"
   },
   {
    "duration": 8,
    "start_time": "2022-03-11T21:24:54.655Z"
   },
   {
    "duration": 9,
    "start_time": "2022-03-11T21:25:14.113Z"
   },
   {
    "duration": 9,
    "start_time": "2022-03-11T21:29:52.115Z"
   },
   {
    "duration": 8,
    "start_time": "2022-03-11T21:29:54.176Z"
   },
   {
    "duration": 9,
    "start_time": "2022-03-11T21:29:56.256Z"
   },
   {
    "duration": 8,
    "start_time": "2022-03-11T21:29:58.440Z"
   },
   {
    "duration": 3,
    "start_time": "2022-03-11T21:51:15.040Z"
   },
   {
    "duration": 9,
    "start_time": "2022-03-11T21:51:21.496Z"
   },
   {
    "duration": 4,
    "start_time": "2022-03-11T21:52:05.015Z"
   },
   {
    "duration": 179,
    "start_time": "2022-03-11T22:01:00.660Z"
   },
   {
    "duration": 11,
    "start_time": "2022-03-11T22:01:42.039Z"
   },
   {
    "duration": 9,
    "start_time": "2022-03-11T22:01:45.280Z"
   },
   {
    "duration": 17,
    "start_time": "2022-03-11T22:01:53.908Z"
   },
   {
    "duration": 10,
    "start_time": "2022-03-11T22:02:02.123Z"
   },
   {
    "duration": 62,
    "start_time": "2022-03-11T22:02:57.258Z"
   },
   {
    "duration": 2,
    "start_time": "2022-03-11T22:03:08.992Z"
   },
   {
    "duration": 126,
    "start_time": "2022-03-11T22:03:10.490Z"
   },
   {
    "duration": 14,
    "start_time": "2022-03-11T22:03:13.277Z"
   },
   {
    "duration": 11,
    "start_time": "2022-03-11T22:03:20.288Z"
   },
   {
    "duration": 5,
    "start_time": "2022-03-11T22:04:55.496Z"
   },
   {
    "duration": 9,
    "start_time": "2022-03-11T22:08:27.750Z"
   },
   {
    "duration": 6,
    "start_time": "2022-03-11T22:08:33.231Z"
   },
   {
    "duration": 10,
    "start_time": "2022-03-11T22:09:35.724Z"
   },
   {
    "duration": 633,
    "start_time": "2022-03-11T22:23:02.930Z"
   },
   {
    "duration": 62,
    "start_time": "2022-03-11T22:26:07.917Z"
   },
   {
    "duration": 4827,
    "start_time": "2022-03-11T22:38:43.324Z"
   },
   {
    "duration": 194,
    "start_time": "2022-03-11T22:40:04.867Z"
   },
   {
    "duration": 71,
    "start_time": "2022-03-11T22:40:30.011Z"
   },
   {
    "duration": 209,
    "start_time": "2022-03-11T22:40:40.936Z"
   },
   {
    "duration": 80,
    "start_time": "2022-03-12T13:43:42.236Z"
   },
   {
    "duration": 67,
    "start_time": "2022-03-12T13:50:23.274Z"
   },
   {
    "duration": 585,
    "start_time": "2022-03-12T13:53:53.870Z"
   },
   {
    "duration": 185,
    "start_time": "2022-03-12T13:53:54.457Z"
   },
   {
    "duration": 20,
    "start_time": "2022-03-12T13:53:54.644Z"
   },
   {
    "duration": 9,
    "start_time": "2022-03-12T13:53:54.666Z"
   },
   {
    "duration": 28,
    "start_time": "2022-03-12T13:53:54.677Z"
   },
   {
    "duration": 4,
    "start_time": "2022-03-12T13:53:54.707Z"
   },
   {
    "duration": 19,
    "start_time": "2022-03-12T13:53:54.712Z"
   },
   {
    "duration": 30,
    "start_time": "2022-03-12T13:53:54.734Z"
   },
   {
    "duration": 23,
    "start_time": "2022-03-12T13:53:54.767Z"
   },
   {
    "duration": 272,
    "start_time": "2022-03-12T13:53:54.792Z"
   },
   {
    "duration": -753,
    "start_time": "2022-03-12T13:53:55.820Z"
   },
   {
    "duration": -763,
    "start_time": "2022-03-12T13:53:55.831Z"
   },
   {
    "duration": -772,
    "start_time": "2022-03-12T13:53:55.841Z"
   },
   {
    "duration": -839,
    "start_time": "2022-03-12T13:53:55.910Z"
   },
   {
    "duration": -847,
    "start_time": "2022-03-12T13:53:55.919Z"
   },
   {
    "duration": -1068,
    "start_time": "2022-03-12T13:53:56.142Z"
   },
   {
    "duration": -1086,
    "start_time": "2022-03-12T13:53:56.161Z"
   },
   {
    "duration": -1092,
    "start_time": "2022-03-12T13:53:56.168Z"
   },
   {
    "duration": -1096,
    "start_time": "2022-03-12T13:53:56.174Z"
   },
   {
    "duration": -1102,
    "start_time": "2022-03-12T13:53:56.181Z"
   },
   {
    "duration": -1107,
    "start_time": "2022-03-12T13:53:56.187Z"
   },
   {
    "duration": -1111,
    "start_time": "2022-03-12T13:53:56.193Z"
   },
   {
    "duration": -1116,
    "start_time": "2022-03-12T13:53:56.199Z"
   },
   {
    "duration": -1120,
    "start_time": "2022-03-12T13:53:56.204Z"
   },
   {
    "duration": -1129,
    "start_time": "2022-03-12T13:53:56.214Z"
   },
   {
    "duration": -1139,
    "start_time": "2022-03-12T13:53:56.226Z"
   },
   {
    "duration": -1424,
    "start_time": "2022-03-12T13:53:56.512Z"
   },
   {
    "duration": -1432,
    "start_time": "2022-03-12T13:53:56.520Z"
   },
   {
    "duration": -1441,
    "start_time": "2022-03-12T13:53:56.530Z"
   },
   {
    "duration": -1445,
    "start_time": "2022-03-12T13:53:56.535Z"
   },
   {
    "duration": -1454,
    "start_time": "2022-03-12T13:53:56.545Z"
   },
   {
    "duration": -1460,
    "start_time": "2022-03-12T13:53:56.552Z"
   },
   {
    "duration": -1469,
    "start_time": "2022-03-12T13:53:56.562Z"
   },
   {
    "duration": -1475,
    "start_time": "2022-03-12T13:53:56.569Z"
   },
   {
    "duration": -1489,
    "start_time": "2022-03-12T13:53:56.584Z"
   },
   {
    "duration": -1495,
    "start_time": "2022-03-12T13:53:56.591Z"
   },
   {
    "duration": -1708,
    "start_time": "2022-03-12T13:53:56.804Z"
   },
   {
    "duration": -1727,
    "start_time": "2022-03-12T13:53:56.824Z"
   },
   {
    "duration": 267,
    "start_time": "2022-03-12T13:54:00.387Z"
   },
   {
    "duration": 218,
    "start_time": "2022-03-12T13:54:04.413Z"
   },
   {
    "duration": 223,
    "start_time": "2022-03-12T13:54:10.020Z"
   },
   {
    "duration": 2,
    "start_time": "2022-03-12T13:54:16.998Z"
   },
   {
    "duration": 147,
    "start_time": "2022-03-12T13:54:17.003Z"
   },
   {
    "duration": 12,
    "start_time": "2022-03-12T13:54:17.152Z"
   },
   {
    "duration": 11,
    "start_time": "2022-03-12T13:54:17.166Z"
   },
   {
    "duration": 27,
    "start_time": "2022-03-12T13:54:17.179Z"
   },
   {
    "duration": 6,
    "start_time": "2022-03-12T13:54:17.208Z"
   },
   {
    "duration": 22,
    "start_time": "2022-03-12T13:54:17.216Z"
   },
   {
    "duration": 26,
    "start_time": "2022-03-12T13:54:17.240Z"
   },
   {
    "duration": 28,
    "start_time": "2022-03-12T13:54:17.267Z"
   },
   {
    "duration": 229,
    "start_time": "2022-03-12T13:54:17.297Z"
   },
   {
    "duration": -587,
    "start_time": "2022-03-12T13:54:18.116Z"
   },
   {
    "duration": -593,
    "start_time": "2022-03-12T13:54:18.123Z"
   },
   {
    "duration": -598,
    "start_time": "2022-03-12T13:54:18.129Z"
   },
   {
    "duration": -602,
    "start_time": "2022-03-12T13:54:18.134Z"
   },
   {
    "duration": -627,
    "start_time": "2022-03-12T13:54:18.160Z"
   },
   {
    "duration": -632,
    "start_time": "2022-03-12T13:54:18.166Z"
   },
   {
    "duration": -638,
    "start_time": "2022-03-12T13:54:18.173Z"
   },
   {
    "duration": -642,
    "start_time": "2022-03-12T13:54:18.178Z"
   },
   {
    "duration": -648,
    "start_time": "2022-03-12T13:54:18.185Z"
   },
   {
    "duration": -654,
    "start_time": "2022-03-12T13:54:18.192Z"
   },
   {
    "duration": -660,
    "start_time": "2022-03-12T13:54:18.199Z"
   },
   {
    "duration": -861,
    "start_time": "2022-03-12T13:54:18.401Z"
   },
   {
    "duration": -868,
    "start_time": "2022-03-12T13:54:18.409Z"
   },
   {
    "duration": -872,
    "start_time": "2022-03-12T13:54:18.414Z"
   },
   {
    "duration": -878,
    "start_time": "2022-03-12T13:54:18.421Z"
   },
   {
    "duration": -883,
    "start_time": "2022-03-12T13:54:18.427Z"
   },
   {
    "duration": -888,
    "start_time": "2022-03-12T13:54:18.433Z"
   },
   {
    "duration": -899,
    "start_time": "2022-03-12T13:54:18.445Z"
   },
   {
    "duration": -904,
    "start_time": "2022-03-12T13:54:18.451Z"
   },
   {
    "duration": -909,
    "start_time": "2022-03-12T13:54:18.457Z"
   },
   {
    "duration": -914,
    "start_time": "2022-03-12T13:54:18.463Z"
   },
   {
    "duration": -919,
    "start_time": "2022-03-12T13:54:18.470Z"
   },
   {
    "duration": -924,
    "start_time": "2022-03-12T13:54:18.476Z"
   },
   {
    "duration": -930,
    "start_time": "2022-03-12T13:54:18.483Z"
   },
   {
    "duration": -937,
    "start_time": "2022-03-12T13:54:18.491Z"
   },
   {
    "duration": -940,
    "start_time": "2022-03-12T13:54:18.495Z"
   },
   {
    "duration": -1119,
    "start_time": "2022-03-12T13:54:18.675Z"
   },
   {
    "duration": -1127,
    "start_time": "2022-03-12T13:54:18.684Z"
   },
   {
    "duration": 215,
    "start_time": "2022-03-12T13:55:59.182Z"
   },
   {
    "duration": 3,
    "start_time": "2022-03-12T13:56:32.068Z"
   },
   {
    "duration": 3,
    "start_time": "2022-03-12T13:59:24.615Z"
   },
   {
    "duration": 124,
    "start_time": "2022-03-12T13:59:24.625Z"
   },
   {
    "duration": 13,
    "start_time": "2022-03-12T13:59:24.751Z"
   },
   {
    "duration": 13,
    "start_time": "2022-03-12T13:59:24.766Z"
   },
   {
    "duration": 23,
    "start_time": "2022-03-12T13:59:24.781Z"
   },
   {
    "duration": 5,
    "start_time": "2022-03-12T13:59:24.805Z"
   },
   {
    "duration": 20,
    "start_time": "2022-03-12T13:59:24.811Z"
   },
   {
    "duration": 31,
    "start_time": "2022-03-12T13:59:24.833Z"
   },
   {
    "duration": 23,
    "start_time": "2022-03-12T13:59:24.867Z"
   },
   {
    "duration": 239,
    "start_time": "2022-03-12T13:59:24.892Z"
   },
   {
    "duration": -773,
    "start_time": "2022-03-12T13:59:25.907Z"
   },
   {
    "duration": -788,
    "start_time": "2022-03-12T13:59:25.923Z"
   },
   {
    "duration": -793,
    "start_time": "2022-03-12T13:59:25.929Z"
   },
   {
    "duration": -800,
    "start_time": "2022-03-12T13:59:25.937Z"
   },
   {
    "duration": -805,
    "start_time": "2022-03-12T13:59:25.943Z"
   },
   {
    "duration": -812,
    "start_time": "2022-03-12T13:59:25.951Z"
   },
   {
    "duration": -817,
    "start_time": "2022-03-12T13:59:25.957Z"
   },
   {
    "duration": -822,
    "start_time": "2022-03-12T13:59:25.962Z"
   },
   {
    "duration": -828,
    "start_time": "2022-03-12T13:59:25.969Z"
   },
   {
    "duration": -832,
    "start_time": "2022-03-12T13:59:25.974Z"
   },
   {
    "duration": -835,
    "start_time": "2022-03-12T13:59:25.978Z"
   },
   {
    "duration": -840,
    "start_time": "2022-03-12T13:59:25.984Z"
   },
   {
    "duration": -1180,
    "start_time": "2022-03-12T13:59:26.325Z"
   },
   {
    "duration": -1200,
    "start_time": "2022-03-12T13:59:26.345Z"
   },
   {
    "duration": -1211,
    "start_time": "2022-03-12T13:59:26.357Z"
   },
   {
    "duration": -1219,
    "start_time": "2022-03-12T13:59:26.366Z"
   },
   {
    "duration": -1229,
    "start_time": "2022-03-12T13:59:26.377Z"
   },
   {
    "duration": -1241,
    "start_time": "2022-03-12T13:59:26.391Z"
   },
   {
    "duration": -1246,
    "start_time": "2022-03-12T13:59:26.397Z"
   },
   {
    "duration": -1253,
    "start_time": "2022-03-12T13:59:26.405Z"
   },
   {
    "duration": -1256,
    "start_time": "2022-03-12T13:59:26.409Z"
   },
   {
    "duration": -1263,
    "start_time": "2022-03-12T13:59:26.416Z"
   },
   {
    "duration": -1268,
    "start_time": "2022-03-12T13:59:26.422Z"
   },
   {
    "duration": -1273,
    "start_time": "2022-03-12T13:59:26.428Z"
   },
   {
    "duration": -1470,
    "start_time": "2022-03-12T13:59:26.626Z"
   },
   {
    "duration": -1489,
    "start_time": "2022-03-12T13:59:26.646Z"
   },
   {
    "duration": -1507,
    "start_time": "2022-03-12T13:59:26.665Z"
   },
   {
    "duration": -1524,
    "start_time": "2022-03-12T13:59:26.683Z"
   },
   {
    "duration": 4,
    "start_time": "2022-03-12T13:59:49.826Z"
   },
   {
    "duration": 10,
    "start_time": "2022-03-12T13:59:52.332Z"
   },
   {
    "duration": 4,
    "start_time": "2022-03-12T14:00:06.754Z"
   },
   {
    "duration": 13,
    "start_time": "2022-03-12T14:00:08.512Z"
   },
   {
    "duration": 9,
    "start_time": "2022-03-12T14:00:44.039Z"
   },
   {
    "duration": 22,
    "start_time": "2022-03-12T14:01:13.824Z"
   },
   {
    "duration": 546,
    "start_time": "2022-03-14T09:02:43.102Z"
   },
   {
    "duration": 174,
    "start_time": "2022-03-14T09:02:44.939Z"
   },
   {
    "duration": 19,
    "start_time": "2022-03-14T09:02:49.433Z"
   },
   {
    "duration": 11,
    "start_time": "2022-03-14T09:02:53.504Z"
   },
   {
    "duration": 25,
    "start_time": "2022-03-14T09:02:56.437Z"
   },
   {
    "duration": 20,
    "start_time": "2022-03-14T09:03:01.954Z"
   },
   {
    "duration": 4,
    "start_time": "2022-03-14T09:03:04.668Z"
   },
   {
    "duration": 39,
    "start_time": "2022-03-14T09:03:11.333Z"
   },
   {
    "duration": 18,
    "start_time": "2022-03-14T09:03:14.740Z"
   },
   {
    "duration": 24,
    "start_time": "2022-03-14T09:03:22.986Z"
   },
   {
    "duration": 53,
    "start_time": "2022-03-14T09:03:34.682Z"
   },
   {
    "duration": 116,
    "start_time": "2022-03-14T09:03:46.382Z"
   },
   {
    "duration": 10,
    "start_time": "2022-03-14T09:03:49.918Z"
   },
   {
    "duration": 50,
    "start_time": "2022-03-14T09:03:53.781Z"
   },
   {
    "duration": 41,
    "start_time": "2022-03-14T09:03:57.140Z"
   },
   {
    "duration": 16,
    "start_time": "2022-03-14T09:04:03.781Z"
   },
   {
    "duration": 12,
    "start_time": "2022-03-14T09:04:14.687Z"
   },
   {
    "duration": 13,
    "start_time": "2022-03-14T09:04:17.731Z"
   },
   {
    "duration": 3,
    "start_time": "2022-03-14T09:04:23.555Z"
   },
   {
    "duration": 23,
    "start_time": "2022-03-14T09:06:14.914Z"
   },
   {
    "duration": 19,
    "start_time": "2022-03-14T09:06:38.087Z"
   },
   {
    "duration": 20,
    "start_time": "2022-03-14T09:07:51.052Z"
   },
   {
    "duration": 17,
    "start_time": "2022-03-14T09:07:52.236Z"
   },
   {
    "duration": 21,
    "start_time": "2022-03-14T09:07:53.186Z"
   },
   {
    "duration": 18,
    "start_time": "2022-03-14T09:07:54.065Z"
   },
   {
    "duration": 332,
    "start_time": "2022-03-14T09:10:56.820Z"
   },
   {
    "duration": 302,
    "start_time": "2022-03-14T09:14:54.548Z"
   },
   {
    "duration": 326,
    "start_time": "2022-03-14T09:15:03.998Z"
   },
   {
    "duration": 311,
    "start_time": "2022-03-14T09:15:34.338Z"
   },
   {
    "duration": 326,
    "start_time": "2022-03-14T09:16:01.820Z"
   },
   {
    "duration": 307,
    "start_time": "2022-03-14T09:16:21.987Z"
   },
   {
    "duration": 316,
    "start_time": "2022-03-14T09:16:37.129Z"
   },
   {
    "duration": 83,
    "start_time": "2022-03-14T09:16:45.820Z"
   },
   {
    "duration": 489,
    "start_time": "2022-03-14T09:17:13.264Z"
   },
   {
    "duration": 87,
    "start_time": "2022-03-14T09:17:21.883Z"
   },
   {
    "duration": 236,
    "start_time": "2022-03-14T09:18:06.398Z"
   },
   {
    "duration": 291,
    "start_time": "2022-03-14T09:18:12.988Z"
   },
   {
    "duration": 245,
    "start_time": "2022-03-14T09:18:29.619Z"
   },
   {
    "duration": 5,
    "start_time": "2022-03-14T09:18:34.833Z"
   },
   {
    "duration": 251,
    "start_time": "2022-03-14T09:18:39.464Z"
   },
   {
    "duration": 11,
    "start_time": "2022-03-14T09:18:45.286Z"
   },
   {
    "duration": 10,
    "start_time": "2022-03-14T09:18:47.819Z"
   },
   {
    "duration": 4,
    "start_time": "2022-03-14T09:18:50.396Z"
   },
   {
    "duration": 18,
    "start_time": "2022-03-14T09:18:54.012Z"
   },
   {
    "duration": 14,
    "start_time": "2022-03-14T09:18:57.162Z"
   },
   {
    "duration": 20,
    "start_time": "2022-03-14T09:18:57.947Z"
   },
   {
    "duration": 14,
    "start_time": "2022-03-14T09:18:59.029Z"
   },
   {
    "duration": 10,
    "start_time": "2022-03-14T09:19:03.413Z"
   },
   {
    "duration": 5,
    "start_time": "2022-03-14T09:19:07.116Z"
   },
   {
    "duration": 9,
    "start_time": "2022-03-14T09:19:10.489Z"
   },
   {
    "duration": 5,
    "start_time": "2022-03-14T09:19:18.484Z"
   },
   {
    "duration": 273,
    "start_time": "2022-03-14T09:21:32.645Z"
   },
   {
    "duration": 358,
    "start_time": "2022-03-14T09:22:11.986Z"
   },
   {
    "duration": 23,
    "start_time": "2022-03-14T09:23:27.914Z"
   },
   {
    "duration": 19,
    "start_time": "2022-03-14T09:23:29.514Z"
   },
   {
    "duration": 24,
    "start_time": "2022-03-14T09:23:29.996Z"
   },
   {
    "duration": 19,
    "start_time": "2022-03-14T09:23:30.717Z"
   },
   {
    "duration": 25,
    "start_time": "2022-03-14T09:23:31.191Z"
   },
   {
    "duration": 22,
    "start_time": "2022-03-14T09:23:31.835Z"
   },
   {
    "duration": 4,
    "start_time": "2022-03-14T09:23:36.753Z"
   },
   {
    "duration": 256,
    "start_time": "2022-03-14T09:24:31.604Z"
   },
   {
    "duration": 91,
    "start_time": "2022-03-14T09:25:00.255Z"
   },
   {
    "duration": 82,
    "start_time": "2022-03-14T09:25:07.935Z"
   },
   {
    "duration": 79,
    "start_time": "2022-03-14T09:25:18.513Z"
   },
   {
    "duration": 256,
    "start_time": "2022-03-14T09:25:33.915Z"
   },
   {
    "duration": 77,
    "start_time": "2022-03-14T09:25:50.471Z"
   },
   {
    "duration": 85,
    "start_time": "2022-03-14T09:27:31.347Z"
   },
   {
    "duration": 329,
    "start_time": "2022-03-14T09:27:38.729Z"
   },
   {
    "duration": 288,
    "start_time": "2022-03-14T09:27:57.946Z"
   },
   {
    "duration": 257,
    "start_time": "2022-03-14T09:28:05.913Z"
   },
   {
    "duration": 80,
    "start_time": "2022-03-14T09:28:22.935Z"
   },
   {
    "duration": 93,
    "start_time": "2022-03-14T09:28:32.913Z"
   },
   {
    "duration": 83,
    "start_time": "2022-03-14T09:31:51.378Z"
   },
   {
    "duration": 163,
    "start_time": "2022-03-14T09:32:03.103Z"
   },
   {
    "duration": 81,
    "start_time": "2022-03-14T09:32:52.114Z"
   },
   {
    "duration": 90,
    "start_time": "2022-03-14T09:33:00.668Z"
   },
   {
    "duration": 77,
    "start_time": "2022-03-14T15:08:10.071Z"
   },
   {
    "duration": 93,
    "start_time": "2022-03-14T15:08:23.098Z"
   },
   {
    "duration": 22,
    "start_time": "2022-03-14T15:08:33.764Z"
   },
   {
    "duration": 19,
    "start_time": "2022-03-14T15:08:35.763Z"
   },
   {
    "duration": 20,
    "start_time": "2022-03-14T15:08:36.664Z"
   },
   {
    "duration": 18,
    "start_time": "2022-03-14T15:08:38.212Z"
   },
   {
    "duration": 23,
    "start_time": "2022-03-14T15:08:39.229Z"
   },
   {
    "duration": 18,
    "start_time": "2022-03-14T15:08:40.448Z"
   },
   {
    "duration": 4,
    "start_time": "2022-03-14T15:08:45.716Z"
   },
   {
    "duration": 12,
    "start_time": "2022-03-14T15:09:08.309Z"
   },
   {
    "duration": 75,
    "start_time": "2022-03-14T15:09:32.450Z"
   },
   {
    "duration": 326,
    "start_time": "2022-03-14T15:09:53.250Z"
   },
   {
    "duration": 84,
    "start_time": "2022-03-14T15:14:36.363Z"
   },
   {
    "duration": 76,
    "start_time": "2022-03-14T15:15:06.915Z"
   },
   {
    "duration": 82,
    "start_time": "2022-03-14T15:15:26.747Z"
   },
   {
    "duration": 73,
    "start_time": "2022-03-14T15:19:26.196Z"
   },
   {
    "duration": 89,
    "start_time": "2022-03-14T15:36:48.347Z"
   },
   {
    "duration": 89,
    "start_time": "2022-03-14T15:37:08.785Z"
   },
   {
    "duration": 16,
    "start_time": "2022-03-15T00:15:23.555Z"
   },
   {
    "duration": 67,
    "start_time": "2022-03-15T14:02:09.692Z"
   }
  ],
  "colab": {
   "collapsed_sections": [
    "E0vqbgi9ay0H",
    "VUC88oWjTJw2",
    "atZAxtq4_Zcu"
   ],
   "name": "EmptyFinalProject.ipynb\"",
   "provenance": []
  },
  "kernelspec": {
   "display_name": "Python 3 (ipykernel)",
   "language": "python",
   "name": "python3"
  },
  "language_info": {
   "codemirror_mode": {
    "name": "ipython",
    "version": 3
   },
   "file_extension": ".py",
   "mimetype": "text/x-python",
   "name": "python",
   "nbconvert_exporter": "python",
   "pygments_lexer": "ipython3",
   "version": "3.9.5"
  },
  "toc": {
   "base_numbering": 1,
   "nav_menu": {},
   "number_sections": true,
   "sideBar": true,
   "skip_h1_title": true,
   "title_cell": "Table of Contents",
   "title_sidebar": "Contents",
   "toc_cell": false,
   "toc_position": {},
   "toc_section_display": true,
   "toc_window_display": false
  }
 },
 "nbformat": 4,
 "nbformat_minor": 4
}
